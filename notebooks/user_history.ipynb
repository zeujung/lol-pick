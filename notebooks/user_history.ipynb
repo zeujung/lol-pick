{
 "cells": [
  {
   "cell_type": "code",
   "execution_count": 1,
   "metadata": {
    "ExecuteTime": {
     "end_time": "2019-01-30T06:55:41.508984Z",
     "start_time": "2019-01-30T06:55:41.455598Z"
    },
    "collapsed": true
   },
   "outputs": [],
   "source": [
    "from urllib.request import urlopen\n",
    "from bs4 import BeautifulSoup\n",
    "from urllib import parse\n",
    "\n",
    "def user_history(userName):\n",
    "    userName = parse.quote(userName)\n",
    "    url = \"http://www.op.gg/summoner/champions/userName={}\".format(userName)\n",
    "\n",
    "    html = urlopen(url)\n",
    "    source = html.read() \n",
    "    html.close() \n",
    "\n",
    "    soup = BeautifulSoup(source, 'lxml', from_encoding='utf-8')\n",
    "    soup = soup.findAll('tr', {'class', 'Row TopRanker'})\n",
    "    \n",
    "    data = []\n",
    "    \n",
    "    for champion in soup:\n",
    "        name = champion.find('td', {'class', 'ChampionName Cell'}).find('a').text\n",
    "        win = champion.find('div', {'class', 'Text Left'})\n",
    "        if win is None:\n",
    "            win = 0\n",
    "        else:\n",
    "            win = int(win.text.split('W')[0])\n",
    "        lose = champion.find('div', {'class', 'Text Right'})\n",
    "        if lose is None:\n",
    "            lose = 0\n",
    "        else:\n",
    "            lose = int(lose.text.split('L')[0])\n",
    "\n",
    "        kill = float(champion.find('span', {'class', 'Kill'}).text)\n",
    "        death = float(champion.find('span', {'class', 'Death'}).text)\n",
    "        assist = float(champion.find('span', {'class', 'Assist'}).text)\n",
    "        \n",
    "        data.append((name, win, lose, kill, death, assist))\n",
    "    return data"
   ]
  },
  {
   "cell_type": "code",
   "execution_count": 2,
   "metadata": {
    "ExecuteTime": {
     "end_time": "2019-01-30T06:55:42.417996Z",
     "start_time": "2019-01-30T06:55:41.884689Z"
    }
   },
   "outputs": [
    {
     "data": {
      "text/plain": [
       "[('Sylas', 3, 1, 6.5, 7.3, 13.8),\n",
       " ('Camille', 3, 1, 10.5, 5.8, 8.8),\n",
       " ('Evelynn', 3, 0, 13.0, 5.3, 15.7),\n",
       " ('Ornn', 1, 0, 8.0, 7.0, 18.0),\n",
       " ('Udyr', 1, 0, 22.0, 5.0, 14.0),\n",
       " ('Mordekaiser', 0, 1, 2.0, 6.0, 10.0),\n",
       " ('Kayn', 0, 1, 2.0, 6.0, 2.0)]"
      ]
     },
     "execution_count": 2,
     "metadata": {},
     "output_type": "execute_result"
    }
   ],
   "source": [
    "user_history('벤젠덴겐')"
   ]
  }
 ],
 "metadata": {
  "kernelspec": {
   "display_name": "lolpickk",
   "language": "python",
   "name": "lolpickk"
  },
  "language_info": {
   "codemirror_mode": {
    "name": "ipython",
    "version": 3
   },
   "file_extension": ".py",
   "mimetype": "text/x-python",
   "name": "python",
   "nbconvert_exporter": "python",
   "pygments_lexer": "ipython3",
   "version": "3.7.1"
  }
 },
 "nbformat": 4,
 "nbformat_minor": 2
}
