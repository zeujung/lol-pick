{
 "cells": [
  {
   "cell_type": "markdown",
   "metadata": {},
   "source": [
    "We'll use https://cassiopeia.readthedocs.io/en/latest/ to download data."
   ]
  },
  {
   "cell_type": "code",
   "execution_count": 5,
   "metadata": {
    "ExecuteTime": {
     "end_time": "2018-12-27T06:42:18.595322Z",
     "start_time": "2018-12-27T06:42:17.797661Z"
    }
   },
   "outputs": [
    {
     "name": "stdout",
     "output_type": "stream",
     "text": [
      "Enter Riot API key:········\n"
     ]
    }
   ],
   "source": [
    "import getpass\n",
    "\n",
    "key = getpass.getpass(\"Enter Riot API key:\")"
   ]
  },
  {
   "cell_type": "code",
   "execution_count": 6,
   "metadata": {
    "ExecuteTime": {
     "end_time": "2018-12-27T06:42:21.491977Z",
     "start_time": "2018-12-27T06:42:19.055812Z"
    }
   },
   "outputs": [
    {
     "name": "stdout",
     "output_type": "stream",
     "text": [
      "Making call: https://na1.api.riotgames.com/lol/summoner/v3/summoners/by-name/Kalturi\n",
      "Kalturi is a level 108 summoner on the Region.north_america server.\n",
      "Making call: https://ddragon.leagueoflegends.com/realms/na.json\n",
      "Making call: https://ddragon.leagueoflegends.com/cdn/8.24.1/data/en_US/championFull.json\n",
      "He enjoys playing champions such as Varus.\n",
      "Making call: https://na1.api.riotgames.com/lol/league/v3/challengerleagues/by-queue/RANKED_SOLO_5x5\n",
      "He's not as good as Jurassiq at League, but probably a better python programmer!\n"
     ]
    }
   ],
   "source": [
    "import random\n",
    "\n",
    "import cassiopeia as cass\n",
    "\n",
    "cass.set_riot_api_key(key)  # This overrides the value set in your configuration/settings.\n",
    "cass.set_default_region(\"NA\")\n",
    "\n",
    "summoner = cass.get_summoner(name=\"Kalturi\")\n",
    "print(\"{name} is a level {level} summoner on the {region} server.\".format(name=summoner.name,\n",
    "                                                                          level=summoner.level,\n",
    "                                                                          region=summoner.region))\n",
    "\n",
    "champions = cass.get_champions()\n",
    "random_champion = random.choice(champions)\n",
    "print(\"He enjoys playing champions such as {name}.\".format(name=random_champion.name))\n",
    "\n",
    "challenger_league = cass.get_challenger_league(queue=cass.Queue.ranked_solo_fives)\n",
    "best_na = challenger_league[0].summoner\n",
    "print(\"He's not as good as {name} at League, but probably a better python programmer!\".format(name=best_na.name))"
   ]
  },
  {
   "cell_type": "code",
   "execution_count": 7,
   "metadata": {
    "ExecuteTime": {
     "end_time": "2018-12-27T06:42:25.957344Z",
     "start_time": "2018-12-27T06:42:25.953710Z"
    }
   },
   "outputs": [],
   "source": [
    "from cassiopeia import Champion, Champions"
   ]
  },
  {
   "cell_type": "code",
   "execution_count": 8,
   "metadata": {
    "ExecuteTime": {
     "end_time": "2018-12-27T06:42:27.048142Z",
     "start_time": "2018-12-27T06:42:27.031951Z"
    }
   },
   "outputs": [
    {
     "name": "stdout",
     "output_type": "stream",
     "text": [
      "Aatrox 266\n",
      "Ahri 103\n",
      "Akali 84\n",
      "Alistar 12\n",
      "Amumu 32\n",
      "Anivia 34\n",
      "Annie 1\n",
      "Ashe 22\n",
      "Aurelion Sol 136\n",
      "Azir 268\n",
      "Bard 432\n",
      "Blitzcrank 53\n",
      "Brand 63\n",
      "Braum 201\n",
      "Caitlyn 51\n",
      "Camille 164\n",
      "Cassiopeia 69\n",
      "Cho'Gath 31\n",
      "Corki 42\n",
      "Darius 122\n",
      "Diana 131\n",
      "Draven 119\n",
      "Dr. Mundo 36\n",
      "Ekko 245\n",
      "Elise 60\n",
      "Evelynn 28\n",
      "Ezreal 81\n",
      "Fiddlesticks 9\n",
      "Fiora 114\n",
      "Fizz 105\n",
      "Galio 3\n",
      "Gangplank 41\n",
      "Garen 86\n",
      "Gnar 150\n",
      "Gragas 79\n",
      "Graves 104\n",
      "Hecarim 120\n",
      "Heimerdinger 74\n",
      "Illaoi 420\n",
      "Irelia 39\n",
      "Ivern 427\n",
      "Janna 40\n",
      "Jarvan IV 59\n",
      "Jax 24\n",
      "Jayce 126\n",
      "Jhin 202\n",
      "Jinx 222\n",
      "Kai'Sa 145\n",
      "Kalista 429\n",
      "Karma 43\n",
      "Karthus 30\n",
      "Kassadin 38\n",
      "Katarina 55\n",
      "Kayle 10\n",
      "Kayn 141\n",
      "Kennen 85\n",
      "Kha'Zix 121\n",
      "Kindred 203\n",
      "Kled 240\n",
      "Kog'Maw 96\n",
      "LeBlanc 7\n",
      "Lee Sin 64\n",
      "Leona 89\n",
      "Lissandra 127\n",
      "Lucian 236\n",
      "Lulu 117\n",
      "Lux 99\n",
      "Malphite 54\n",
      "Malzahar 90\n",
      "Maokai 57\n",
      "Master Yi 11\n",
      "Miss Fortune 21\n",
      "Wukong 62\n",
      "Mordekaiser 82\n",
      "Morgana 25\n",
      "Nami 267\n",
      "Nasus 75\n",
      "Nautilus 111\n",
      "Neeko 518\n",
      "Nidalee 76\n",
      "Nocturne 56\n",
      "Nunu & Willump 20\n",
      "Olaf 2\n",
      "Orianna 61\n",
      "Ornn 516\n",
      "Pantheon 80\n",
      "Poppy 78\n",
      "Pyke 555\n",
      "Quinn 133\n",
      "Rakan 497\n",
      "Rammus 33\n",
      "Rek'Sai 421\n",
      "Renekton 58\n",
      "Rengar 107\n",
      "Riven 92\n",
      "Rumble 68\n",
      "Ryze 13\n",
      "Sejuani 113\n",
      "Shaco 35\n",
      "Shen 98\n",
      "Shyvana 102\n",
      "Singed 27\n",
      "Sion 14\n",
      "Sivir 15\n",
      "Skarner 72\n",
      "Sona 37\n",
      "Soraka 16\n",
      "Swain 50\n",
      "Syndra 134\n",
      "Tahm Kench 223\n",
      "Taliyah 163\n",
      "Talon 91\n",
      "Taric 44\n",
      "Teemo 17\n",
      "Thresh 412\n",
      "Tristana 18\n",
      "Trundle 48\n",
      "Tryndamere 23\n",
      "Twisted Fate 4\n",
      "Twitch 29\n",
      "Udyr 77\n",
      "Urgot 6\n",
      "Varus 110\n",
      "Vayne 67\n",
      "Veigar 45\n",
      "Vel'Koz 161\n",
      "Vi 254\n",
      "Viktor 112\n",
      "Vladimir 8\n",
      "Volibear 106\n",
      "Warwick 19\n",
      "Xayah 498\n",
      "Xerath 101\n",
      "Xin Zhao 5\n",
      "Yasuo 157\n",
      "Yorick 83\n",
      "Zac 154\n",
      "Zed 238\n",
      "Ziggs 115\n",
      "Zilean 26\n",
      "Zoe 142\n",
      "Zyra 143\n"
     ]
    }
   ],
   "source": [
    "champions = Champions(region=\"NA\")\n",
    "for champion in champions:\n",
    "    print(champion.name, champion.id)"
   ]
  },
  {
   "cell_type": "code",
   "execution_count": 9,
   "metadata": {
    "ExecuteTime": {
     "end_time": "2018-12-27T06:42:34.794610Z",
     "start_time": "2018-12-27T06:42:34.632181Z"
    }
   },
   "outputs": [
    {
     "name": "stdout",
     "output_type": "stream",
     "text": [
      "Annie\n",
      "the Dark Child\n",
      "Disintegrate ['Damage', 'Mana Cost']\n",
      "Incinerate ['Damage', 'Mana Cost']\n",
      "Molten Shield ['Damage Reduction', 'Damage Return']\n",
      "Summon: Tibbers ['Damage', 'Tibbers Health', 'Tibbers Armor and Magic Resist', 'Tibbers Attack Damage', 'Tibbers Burn Damage', 'Cooldown']\n",
      "6\n",
      "Pyromania\n",
      "Making call: https://ddragon.leagueoflegends.com/cdn/8.24.1/data/en_US/item.json\n",
      "{'Tear of the Goddess (Quick Charge)': 1, 'Boots of Speed': 1, 'Health Potion': 5}\n"
     ]
    }
   ],
   "source": [
    "# annie = Champion(name=\"Annie\", region=\"NA\")\n",
    "annie = Champion(name=\"Annie\", region=\"NA\")\n",
    "print(annie.name)\n",
    "print(annie.title)\n",
    "for spell in annie.spells:\n",
    "    print(spell.name, spell.keywords)\n",
    "\n",
    "print(annie.info.difficulty)\n",
    "print(annie.passive.name)\n",
    "print({item.name: count for item, count in annie.recommended_itemsets[0].item_sets[0].items.items()})"
   ]
  },
  {
   "cell_type": "code",
   "execution_count": null,
   "metadata": {},
   "outputs": [],
   "source": []
  }
 ],
 "metadata": {
  "kernelspec": {
   "display_name": "Python 3",
   "language": "python",
   "name": "python3"
  },
  "language_info": {
   "codemirror_mode": {
    "name": "ipython",
    "version": 3
   },
   "file_extension": ".py",
   "mimetype": "text/x-python",
   "name": "python",
   "nbconvert_exporter": "python",
   "pygments_lexer": "ipython3",
   "version": "3.6.5"
  }
 },
 "nbformat": 4,
 "nbformat_minor": 2
}
