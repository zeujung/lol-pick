{
 "cells": [
  {
   "cell_type": "markdown",
   "metadata": {},
   "source": [
    "### Rate Limits\n",
    "\n",
    "- 20 requests every 1 seconds \n",
    "- 100 requests every 2 minutes\n",
    "\n",
    "### First get 10000 match histories.\n",
    "\n",
    "- First 10 columns are the champions for blue team, red team and the last columns stands for \"Blue team won\""
   ]
  },
  {
   "cell_type": "code",
   "execution_count": 1,
   "metadata": {
    "ExecuteTime": {
     "end_time": "2019-01-18T07:09:35.385062Z",
     "start_time": "2019-01-18T07:09:34.382340Z"
    }
   },
   "outputs": [
    {
     "name": "stdout",
     "output_type": "stream",
     "text": [
      "Enter Riot API key:········\n"
     ]
    }
   ],
   "source": [
    "import cassiopeia as cass\n",
    "import getpass\n",
    "import random\n",
    "\n",
    "key = getpass.getpass(\"Enter Riot API key:\")"
   ]
  },
  {
   "cell_type": "code",
   "execution_count": 5,
   "metadata": {
    "ExecuteTime": {
     "end_time": "2019-01-18T07:09:39.404394Z",
     "start_time": "2019-01-18T07:09:39.402200Z"
    },
    "collapsed": true
   },
   "outputs": [],
   "source": [
    "cass.set_riot_api_key(key)  # This overrides the value set in your configuration/settings.\n",
    "cass.set_default_region(\"KR\")"
   ]
  },
  {
   "cell_type": "code",
   "execution_count": 6,
   "metadata": {
    "ExecuteTime": {
     "end_time": "2019-01-18T07:09:39.761877Z",
     "start_time": "2019-01-18T07:09:39.759560Z"
    }
   },
   "outputs": [],
   "source": [
    "match = cass.get_match(3492500002)"
   ]
  },
  {
   "cell_type": "code",
   "execution_count": 7,
   "metadata": {
    "ExecuteTime": {
     "end_time": "2019-01-18T07:09:53.440238Z",
     "start_time": "2019-01-18T07:09:40.290717Z"
    }
   },
   "outputs": [
    {
     "name": "stdout",
     "output_type": "stream",
     "text": [
      "Making call: https://ddragon.leagueoflegends.com/realms/kr.json\n",
      "Making call: https://kr.api.riotgames.com/lol/match/v4/matches/3492500002\n",
      "INFO: Unexpected service rate limit, backing off for 12 seconds (from headers).\n",
      "Making call: https://kr.api.riotgames.com/lol/match/v4/matches/3492500002\n",
      "Making call: https://kr.api.riotgames.com/lol/league/v4/positions/by-summoner/YeE2YgdwrGeM9m1b4dH-xPrJiA8ovJEnhJVbRfleQdNLAgU\n"
     ]
    },
    {
     "data": {
      "text/plain": [
       "<cassiopeia.data.Rank at 0x7f43bafc5c18>"
      ]
     },
     "execution_count": 7,
     "metadata": {},
     "output_type": "execute_result"
    }
   ],
   "source": [
    "(match.blue_team.participants[0]).summoner.ranks[match.queue]"
   ]
  },
  {
   "cell_type": "code",
   "execution_count": 8,
   "metadata": {
    "ExecuteTime": {
     "end_time": "2019-01-18T07:09:53.620825Z",
     "start_time": "2019-01-18T07:09:53.444726Z"
    }
   },
   "outputs": [],
   "source": [
    "import pickle as pkl\n",
    "import os\n",
    "import pandas as pd\n",
    "from cassiopeia.datastores.riotapi.common import APIRequestError, APIError\n",
    "from datapipelines.pipelines import NotFoundError\n"
   ]
  },
  {
   "cell_type": "code",
   "execution_count": 9,
   "metadata": {
    "ExecuteTime": {
     "end_time": "2019-01-18T07:11:04.618659Z",
     "start_time": "2019-01-18T07:11:04.615790Z"
    },
    "collapsed": true
   },
   "outputs": [],
   "source": [
    "def get_lane(participant):\n",
    "    try:\n",
    "        lane = participant.lane.name\n",
    "        if lane =='bot_lane':\n",
    "            lane = participant.role.name\n",
    "        return lane\n",
    "    except AttributeError:\n",
    "        return 'No info'"
   ]
  },
  {
   "cell_type": "code",
   "execution_count": 10,
   "metadata": {
    "ExecuteTime": {
     "end_time": "2019-01-18T07:11:05.261077Z",
     "start_time": "2019-01-18T07:11:05.247945Z"
    }
   },
   "outputs": [],
   "source": [
    "def get_data(i):\n",
    "    dd = []\n",
    "    match = cass.get_match(i)\n",
    "    try:\n",
    "        version = match.version\n",
    "        queue = match.queue.value\n",
    "    except APIRequestError:\n",
    "        print('Your API key has expired.')\n",
    "        key = getpass.getpass(\"Enter new Riot API key:\")\n",
    "        cass.set_riot_api_key(key)\n",
    "        try:\n",
    "            version = match.version\n",
    "            queue = match.queue.value\n",
    "        except:\n",
    "            return []\n",
    "    except:\n",
    "        return []\n",
    "        \n",
    "    if queue in ['RANKED_SOLO_5x5'] and version == '9.1.257.7563':        \n",
    "        for participant in match.blue_team.participants :\n",
    "            try:\n",
    "                lane = get_lane(participant)\n",
    "                champion = participant.champion.name\n",
    "                rank = participant.summoner.ranks[match.queue]\n",
    "                tier = ' '.join([rank.tier.name, rank.division.name])\n",
    "            except APIRequestError:\n",
    "                print('Your API key has expired.')\n",
    "                key = getpass.getpass(\"Enter new Riot API key:\")\n",
    "                cass.set_riot_api_key(key)\n",
    "                lane = get_lane(participant)\n",
    "                champion = participant.champion.name\n",
    "                rank = participant.summoner.ranks[match.queue]\n",
    "                tier = ' '.join([rank.tier.name, rank.division.name])\n",
    "            \n",
    "            dd.append((lane, participant.champion.name, tier))\n",
    "            \n",
    "        for ban in match.blue_team.bans:\n",
    "            try:\n",
    "                dd.append(ban.name)\n",
    "            except AttributeError:\n",
    "                dd.append('밴없음')\n",
    "                \n",
    "        for participant in match.red_team.participants :\n",
    "            try:\n",
    "                lane = get_lane(participant)\n",
    "                champion = participant.champion.name\n",
    "                rank = participant.summoner.ranks[match.queue]\n",
    "                tier = ' '.join([rank.tier.name, rank.division.name])\n",
    "            except APIRequestError:\n",
    "                print('Your API key has expired.')\n",
    "                key = getpass.getpass(\"Enter new Riot API key:\")\n",
    "                cass.set_riot_api_key(key)\n",
    "                lane = get_lane(participant)\n",
    "                champion = participant.champion.name\n",
    "                rank = participant.summoner.ranks[match.queue]\n",
    "                tier = ' '.join([rank.tier.name, rank.division.name])\n",
    "            \n",
    "            dd.append((lane, participant.champion.name, tier))\n",
    "            \n",
    "        for ban in match.red_team.bans:\n",
    "            try:\n",
    "                dd.append(ban.name)\n",
    "            except AttributeError:\n",
    "                dd.append('밴없음')\n",
    "\n",
    "        dd.append(match.blue_team.win)\n",
    "        print('Match id {} is valid.'.format(i))\n",
    "    return dd"
   ]
  },
  {
   "cell_type": "markdown",
   "metadata": {},
   "source": [
    "# Set start_id and end_id\n",
    "\n",
    "||start_id|end_id|\n",
    "|----------|------------|------------|\n",
    "| Jaewoo   | 3490000000 | 3492500000 |\n",
    "| Jinyoung | 3492500001 | 3495000000 |\n",
    "| Hwi      | 3495000001 | 3475000000 |\n",
    "| Q        | 3475000001 | 3500000000 |"
   ]
  },
  {
   "cell_type": "code",
   "execution_count": 12,
   "metadata": {
    "ExecuteTime": {
     "end_time": "2019-01-18T07:11:20.379512Z",
     "start_time": "2019-01-18T07:11:20.375239Z"
    }
   },
   "outputs": [],
   "source": [
    "start_id = 3492500001\n",
    "end_id = 3495000000\n",
    "ids = range(start_id, end_id)\n",
    "\n",
    "dir_name = '{}-{}'.format(start_id, end_id)\n",
    "os.mkdir(os.path.join('../data/',dir_name))\n",
    "\n",
    "data = []\n",
    "user = os.path.realpath('.').split('/')[2]\n",
    "k=0"
   ]
  },
  {
   "cell_type": "code",
   "execution_count": null,
   "metadata": {
    "collapsed": true
   },
   "outputs": [],
   "source": [
    "for i in ids:\n",
    "    try:\n",
    "        dd = get_data(i)\n",
    "        if len(dd)!=0:\n",
    "            data.append(dd)\n",
    "        if len(data)==2000:\n",
    "            print(\"Making {}.pkl.\".format(k))\n",
    "            with open(os.path.join('../data/', dir_name, '{}.pkl'.format(k)), 'wb') as f:\n",
    "                pkl.dump(data, f)\n",
    "            k+=1\n",
    "            data = []\n",
    "    except:\n",
    "        continue\n",
    "\n",
    "if len(data)!=0:\n",
    "    with open(os.path.join('../data/', dir_name, '{}.pkl'.format(k)), 'wb') as f:\n",
    "        pkl.dump(data, f)\n",
    "        "
   ]
  }
 ],
 "metadata": {
  "kernelspec": {
   "display_name": "lolpickk",
   "language": "python",
   "name": "lolpickk"
  },
  "language_info": {
   "codemirror_mode": {
    "name": "ipython",
    "version": 3
   },
   "file_extension": ".py",
   "mimetype": "text/x-python",
   "name": "python",
   "nbconvert_exporter": "python",
   "pygments_lexer": "ipython3",
   "version": "3.7.1"
  }
 },
 "nbformat": 4,
 "nbformat_minor": 2
}
