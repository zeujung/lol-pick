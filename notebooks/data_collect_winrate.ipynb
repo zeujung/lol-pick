{
 "cells": [
  {
   "cell_type": "markdown",
   "metadata": {},
   "source": [
    "### Rate Limits\n",
    "\n",
    "- 20 requests every 1 seconds \n",
    "- 100 requests every 2 minutes\n",
    "\n",
    "### First get 10000 match histories.\n",
    "\n",
    "- First 10 columns are the champions for blue team, red team and the last columns stands for \"Blue team won\""
   ]
  },
  {
   "cell_type": "code",
   "execution_count": 1,
   "metadata": {
    "ExecuteTime": {
     "end_time": "2019-01-18T02:54:47.495658Z",
     "start_time": "2019-01-18T02:54:43.056974Z"
    }
   },
   "outputs": [
    {
     "name": "stdout",
     "output_type": "stream",
     "text": [
      "Enter Riot API key:········\n"
     ]
    }
   ],
   "source": [
    "import cassiopeia as cass\n",
    "import getpass\n",
    "import random\n",
    "\n",
    "key = getpass.getpass(\"Enter Riot API key:\")"
   ]
  },
  {
   "cell_type": "code",
   "execution_count": 2,
   "metadata": {
    "ExecuteTime": {
     "end_time": "2019-01-18T02:54:48.416423Z",
     "start_time": "2019-01-18T02:54:48.397525Z"
    },
    "collapsed": true
   },
   "outputs": [],
   "source": [
    "cass.set_riot_api_key(key)  # This overrides the value set in your configuration/settings.\n",
    "cass.set_default_region(\"KR\")"
   ]
  },
  {
   "cell_type": "code",
   "execution_count": 3,
   "metadata": {
    "ExecuteTime": {
     "end_time": "2019-01-18T02:54:48.956200Z",
     "start_time": "2019-01-18T02:54:48.951129Z"
    },
    "collapsed": true
   },
   "outputs": [],
   "source": [
    "match = cass.get_match(3449425180)"
   ]
  },
  {
   "cell_type": "code",
   "execution_count": 4,
   "metadata": {
    "ExecuteTime": {
     "end_time": "2019-01-18T02:54:49.936796Z",
     "start_time": "2019-01-18T02:54:49.472536Z"
    },
    "scrolled": true
   },
   "outputs": [
    {
     "name": "stdout",
     "output_type": "stream",
     "text": [
      "Making call: https://ddragon.leagueoflegends.com/realms/kr.json\n",
      "Making call: https://kr.api.riotgames.com/lol/match/v4/matches/3449425180\n"
     ]
    },
    {
     "data": {
      "text/plain": [
       "True"
      ]
     },
     "execution_count": 4,
     "metadata": {},
     "output_type": "execute_result"
    }
   ],
   "source": [
    "match.blue_team.win"
   ]
  },
  {
   "cell_type": "code",
   "execution_count": null,
   "metadata": {
    "ExecuteTime": {
     "start_time": "2019-01-18T02:55:31.135Z"
    },
    "scrolled": true
   },
   "outputs": [
    {
     "name": "stdout",
     "output_type": "stream",
     "text": [
      "Making call: https://kr.api.riotgames.com/lol/match/v4/matches/3490000000\n",
      "0\n",
      "Making call: https://kr.api.riotgames.com/lol/match/v4/matches/3490000001\n",
      "1\n",
      "Making call: https://kr.api.riotgames.com/lol/match/v4/matches/3490000002\n",
      "Making call: https://ddragon.leagueoflegends.com/cdn/9.1.1/data/ko_KR/championFull.json\n",
      "2\n",
      "Making call: https://kr.api.riotgames.com/lol/match/v4/matches/3490000003\n",
      "3\n",
      "Making call: https://kr.api.riotgames.com/lol/match/v4/matches/3490000004\n",
      "4\n",
      "Making call: https://kr.api.riotgames.com/lol/match/v4/matches/3490000005\n",
      "5\n",
      "Making call: https://kr.api.riotgames.com/lol/match/v4/matches/3490000006\n",
      "6\n",
      "Making call: https://kr.api.riotgames.com/lol/match/v4/matches/3490000007\n",
      "7\n",
      "Making call: https://kr.api.riotgames.com/lol/match/v4/matches/3490000008\n",
      "8\n",
      "Making call: https://kr.api.riotgames.com/lol/match/v4/matches/3490000009\n",
      "9\n",
      "Making call: https://kr.api.riotgames.com/lol/match/v4/matches/3490000010\n",
      "10\n",
      "Making call: https://kr.api.riotgames.com/lol/match/v4/matches/3490000011\n",
      "11\n",
      "Making call: https://kr.api.riotgames.com/lol/match/v4/matches/3490000012\n",
      "12\n",
      "Making call: https://kr.api.riotgames.com/lol/match/v4/matches/3490000013\n",
      "13\n",
      "Making call: https://kr.api.riotgames.com/lol/match/v4/matches/3490000014\n",
      "14\n",
      "Making call: https://kr.api.riotgames.com/lol/match/v4/matches/3490000015\n",
      "15\n",
      "Making call: https://kr.api.riotgames.com/lol/match/v4/matches/3490000016\n",
      "16\n",
      "Making call: https://kr.api.riotgames.com/lol/match/v4/matches/3490000017\n",
      "17\n",
      "Making call: https://kr.api.riotgames.com/lol/match/v4/matches/3490000018\n",
      "18\n",
      "Making call: https://kr.api.riotgames.com/lol/match/v4/matches/3490000019\n",
      "19\n",
      "Making call: https://kr.api.riotgames.com/lol/match/v4/matches/3490000020\n",
      "20\n",
      "Making call: https://kr.api.riotgames.com/lol/match/v4/matches/3490000021\n",
      "21\n",
      "Making call: https://kr.api.riotgames.com/lol/match/v4/matches/3490000022\n",
      "22\n",
      "Making call: https://kr.api.riotgames.com/lol/match/v4/matches/3490000023\n",
      "23\n",
      "Making call: https://kr.api.riotgames.com/lol/match/v4/matches/3490000024\n",
      "24\n",
      "Making call: https://kr.api.riotgames.com/lol/match/v4/matches/3490000025\n",
      "25\n",
      "Making call: https://kr.api.riotgames.com/lol/match/v4/matches/3490000026\n",
      "26\n",
      "Making call: https://kr.api.riotgames.com/lol/match/v4/matches/3490000027\n",
      "27\n",
      "Making call: https://kr.api.riotgames.com/lol/match/v4/matches/3490000028\n",
      "28\n",
      "Making call: https://kr.api.riotgames.com/lol/match/v4/matches/3490000029\n",
      "29\n",
      "Making call: https://kr.api.riotgames.com/lol/match/v4/matches/3490000030\n",
      "30\n",
      "Making call: https://kr.api.riotgames.com/lol/match/v4/matches/3490000031\n",
      "31\n",
      "Making call: https://kr.api.riotgames.com/lol/match/v4/matches/3490000032\n",
      "32\n",
      "Making call: https://kr.api.riotgames.com/lol/match/v4/matches/3490000033\n",
      "33\n",
      "Making call: https://kr.api.riotgames.com/lol/match/v4/matches/3490000034\n",
      "34\n",
      "Making call: https://kr.api.riotgames.com/lol/match/v4/matches/3490000035\n",
      "35\n",
      "Making call: https://kr.api.riotgames.com/lol/match/v4/matches/3490000036\n",
      "36\n",
      "Making call: https://kr.api.riotgames.com/lol/match/v4/matches/3490000037\n",
      "37\n",
      "Making call: https://kr.api.riotgames.com/lol/match/v4/matches/3490000038\n",
      "38\n",
      "Making call: https://kr.api.riotgames.com/lol/match/v4/matches/3490000039\n",
      "39\n",
      "Making call: https://kr.api.riotgames.com/lol/match/v4/matches/3490000040\n",
      "40\n",
      "Making call: https://kr.api.riotgames.com/lol/match/v4/matches/3490000041\n",
      "41\n",
      "Making call: https://kr.api.riotgames.com/lol/match/v4/matches/3490000042\n",
      "42\n",
      "Making call: https://kr.api.riotgames.com/lol/match/v4/matches/3490000043\n",
      "43\n",
      "Making call: https://kr.api.riotgames.com/lol/match/v4/matches/3490000044\n",
      "44\n",
      "Making call: https://kr.api.riotgames.com/lol/match/v4/matches/3490000045\n"
     ]
    }
   ],
   "source": [
    "import pickle as pkl\n",
    "import os\n",
    "import pandas as pd\n",
    "\n",
    "start_id = 3490000000\n",
    "end_id = 3495000001\n",
    "ids = range(start_id, end_id)\n",
    "\n",
    "dir_name = '{}-{}'.format(start_id, end_id)\n",
    "os.mkdir(os.path.join('../data/', '{}-{}'.format(start_id, end_id)))\n",
    "\n",
    "data = []\n",
    "user = os.path.realpath('.').split('/')[2]\n",
    "k=0\n",
    "\n",
    "for i in ids :\n",
    "    dd = []\n",
    "    match = cass.get_match(i)\n",
    "    try :\n",
    "        assert match.version == '9.1.257.7563'\n",
    "        if match.queue.value in ['RANKED_SOLO_5x5'] :\n",
    "            for j in range(5) :\n",
    "                dd.append(match.blue_team.participants[j].champion.name)\n",
    "            for j in range(5) :\n",
    "                dd.append(match.blue_team.bans[j].name)\n",
    "            for j in range(5) :\n",
    "                dd.append(match.red_team.participants[j].champion.name)\n",
    "            for j in range(5) :\n",
    "                dd.append(match.red_team.bans[j].name)\n",
    "                \n",
    "            dd.append(match.blue_team.win)\n",
    "    except :\n",
    "        pass\n",
    "    data.append(dd)\n",
    "    \n",
    "    if len(data)==10000:\n",
    "        print(k)\n",
    "        with open(os.path.join('../data/', dir_name, '{}.pkl'.format(k)), 'wb') as f:\n",
    "            pkl.dump(data, f)\n",
    "        k+=1\n",
    "        data = []"
   ]
  }
 ],
 "metadata": {
  "kernelspec": {
   "display_name": "lolpickk",
   "language": "python",
   "name": "lolpickk"
  },
  "language_info": {
   "codemirror_mode": {
    "name": "ipython",
    "version": 3
   },
   "file_extension": ".py",
   "mimetype": "text/x-python",
   "name": "python",
   "nbconvert_exporter": "python",
   "pygments_lexer": "ipython3",
   "version": "3.7.1"
  }
 },
 "nbformat": 4,
 "nbformat_minor": 2
}
