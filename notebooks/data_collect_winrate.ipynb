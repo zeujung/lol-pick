{
 "cells": [
  {
   "cell_type": "markdown",
   "metadata": {},
   "source": [
    "### Rate Limits\n",
    "\n",
    "- 20 requests every 1 seconds \n",
    "- 100 requests every 2 minutes\n",
    "\n",
    "### First get 10000 match histories.\n",
    "\n",
    "- First 10 columns are the champions for blue team, red team and the last columns stands for \"Blue team won\""
   ]
  },
  {
   "cell_type": "code",
   "execution_count": 1,
   "metadata": {
    "ExecuteTime": {
     "end_time": "2019-01-18T03:15:31.131926Z",
     "start_time": "2019-01-18T03:15:25.527430Z"
    }
   },
   "outputs": [
    {
     "name": "stdout",
     "output_type": "stream",
     "text": [
      "Enter Riot API key:········\n"
     ]
    }
   ],
   "source": [
    "import cassiopeia as cass\n",
    "import getpass\n",
    "import random\n",
    "\n",
    "key = getpass.getpass(\"Enter Riot API key:\")"
   ]
  },
  {
   "cell_type": "code",
   "execution_count": 2,
   "metadata": {
    "ExecuteTime": {
     "end_time": "2019-01-18T03:15:32.253181Z",
     "start_time": "2019-01-18T03:15:32.237407Z"
    },
    "collapsed": true
   },
   "outputs": [],
   "source": [
    "cass.set_riot_api_key(key)  # This overrides the value set in your configuration/settings.\n",
    "cass.set_default_region(\"KR\")"
   ]
  },
  {
   "cell_type": "markdown",
   "metadata": {},
   "source": [
    "||start_id|end_id|\n",
    "|----------|------------|------------|\n",
    "| Jaewoo   | 3490000000 | 3492500000 |\n",
    "| Jinyoung | 3492500001 | 3495000000 |\n",
    "| Hwi      | 3495000001 | 3475000000 |\n",
    "| Q        | 3475000001 | 3500000000 |"
   ]
  },
  {
   "cell_type": "code",
   "execution_count": 3,
   "metadata": {
    "ExecuteTime": {
     "end_time": "2019-01-18T03:15:33.291238Z",
     "start_time": "2019-01-18T03:15:33.116503Z"
    },
    "collapsed": true
   },
   "outputs": [],
   "source": [
    "import pickle as pkl\n",
    "import os\n",
    "import pandas as pd\n",
    "\n",
    "start_id = 3492500001\n",
    "end_id = 3495000000\n",
    "ids = range(start_id, end_id)\n",
    "\n",
    "dir_name = '{}-{}'.format(start_id, end_id)\n",
    "os.mkdir(os.path.join('../data/', '{}-{}'.format(start_id, end_id)))\n",
    "\n",
    "data = []\n",
    "user = os.path.realpath('.').split('/')[2]\n",
    "k=0"
   ]
  },
  {
   "cell_type": "code",
   "execution_count": null,
   "metadata": {
    "ExecuteTime": {
     "start_time": "2019-01-18T03:05:24.835Z"
    },
    "scrolled": true
   },
   "outputs": [
    {
     "name": "stdout",
     "output_type": "stream",
     "text": [
      "Making call: https://ddragon.leagueoflegends.com/realms/kr.json\n",
      "Making call: https://kr.api.riotgames.com/lol/match/v4/matches/3490000000\n",
      "Making call: https://kr.api.riotgames.com/lol/match/v4/matches/3490000001\n",
      "Making call: https://kr.api.riotgames.com/lol/match/v4/matches/3490000002\n",
      "Making call: https://ddragon.leagueoflegends.com/cdn/9.1.1/data/ko_KR/championFull.json\n",
      "Making call: https://kr.api.riotgames.com/lol/match/v4/matches/3490000003\n",
      "Making call: https://kr.api.riotgames.com/lol/match/v4/matches/3490000004\n",
      "Making call: https://kr.api.riotgames.com/lol/match/v4/matches/3490000005\n",
      "Making call: https://kr.api.riotgames.com/lol/match/v4/matches/3490000006\n",
      "Making call: https://kr.api.riotgames.com/lol/match/v4/matches/3490000007\n",
      "Making call: https://kr.api.riotgames.com/lol/match/v4/matches/3490000008\n",
      "Making call: https://kr.api.riotgames.com/lol/match/v4/matches/3490000009\n",
      "Making call: https://kr.api.riotgames.com/lol/match/v4/matches/3490000010\n",
      "Making call: https://kr.api.riotgames.com/lol/match/v4/matches/3490000011\n",
      "Making call: https://kr.api.riotgames.com/lol/match/v4/matches/3490000012\n",
      "Making call: https://kr.api.riotgames.com/lol/match/v4/matches/3490000013\n",
      "Making call: https://kr.api.riotgames.com/lol/match/v4/matches/3490000014\n",
      "Making call: https://kr.api.riotgames.com/lol/match/v4/matches/3490000015\n",
      "Making call: https://kr.api.riotgames.com/lol/match/v4/matches/3490000016\n",
      "Making call: https://kr.api.riotgames.com/lol/match/v4/matches/3490000017\n",
      "Making call: https://kr.api.riotgames.com/lol/match/v4/matches/3490000018\n",
      "Making call: https://kr.api.riotgames.com/lol/match/v4/matches/3490000019\n",
      "Making call: https://kr.api.riotgames.com/lol/match/v4/matches/3490000020\n",
      "Making call: https://kr.api.riotgames.com/lol/match/v4/matches/3490000021\n",
      "Making call: https://kr.api.riotgames.com/lol/match/v4/matches/3490000022\n",
      "Making call: https://kr.api.riotgames.com/lol/match/v4/matches/3490000023\n",
      "Making call: https://kr.api.riotgames.com/lol/match/v4/matches/3490000024\n",
      "Making call: https://kr.api.riotgames.com/lol/match/v4/matches/3490000025\n",
      "Making call: https://kr.api.riotgames.com/lol/match/v4/matches/3490000026\n",
      "Making call: https://kr.api.riotgames.com/lol/match/v4/matches/3490000027\n",
      "Making call: https://kr.api.riotgames.com/lol/match/v4/matches/3490000028\n",
      "Making call: https://kr.api.riotgames.com/lol/match/v4/matches/3490000029\n",
      "Making call: https://kr.api.riotgames.com/lol/match/v4/matches/3490000030\n",
      "Making call: https://kr.api.riotgames.com/lol/match/v4/matches/3490000031\n",
      "Making call: https://kr.api.riotgames.com/lol/match/v4/matches/3490000032\n",
      "Making call: https://kr.api.riotgames.com/lol/match/v4/matches/3490000033\n",
      "Making call: https://kr.api.riotgames.com/lol/match/v4/matches/3490000034\n",
      "Making call: https://kr.api.riotgames.com/lol/match/v4/matches/3490000035\n",
      "Making call: https://kr.api.riotgames.com/lol/match/v4/matches/3490000036\n",
      "Making call: https://kr.api.riotgames.com/lol/match/v4/matches/3490000037\n",
      "Making call: https://kr.api.riotgames.com/lol/match/v4/matches/3490000038\n",
      "Making call: https://kr.api.riotgames.com/lol/match/v4/matches/3490000039\n",
      "Making call: https://kr.api.riotgames.com/lol/match/v4/matches/3490000040\n",
      "Making call: https://kr.api.riotgames.com/lol/match/v4/matches/3490000041\n",
      "Making call: https://kr.api.riotgames.com/lol/match/v4/matches/3490000042\n",
      "Making call: https://kr.api.riotgames.com/lol/match/v4/matches/3490000043\n",
      "Making call: https://kr.api.riotgames.com/lol/match/v4/matches/3490000044\n",
      "Making call: https://kr.api.riotgames.com/lol/match/v4/matches/3490000045\n",
      "Making call: https://kr.api.riotgames.com/lol/match/v4/matches/3490000046\n",
      "Making call: https://kr.api.riotgames.com/lol/match/v4/matches/3490000047\n",
      "Making call: https://kr.api.riotgames.com/lol/match/v4/matches/3490000048\n",
      "Making call: https://kr.api.riotgames.com/lol/match/v4/matches/3490000049\n",
      "Making call: https://kr.api.riotgames.com/lol/match/v4/matches/3490000050\n",
      "Making call: https://kr.api.riotgames.com/lol/match/v4/matches/3490000051\n",
      "Making call: https://kr.api.riotgames.com/lol/match/v4/matches/3490000052\n",
      "Making call: https://kr.api.riotgames.com/lol/match/v4/matches/3490000053\n",
      "Making call: https://kr.api.riotgames.com/lol/match/v4/matches/3490000054\n",
      "Making call: https://kr.api.riotgames.com/lol/match/v4/matches/3490000055\n",
      "Making call: https://kr.api.riotgames.com/lol/match/v4/matches/3490000056\n",
      "Making call: https://kr.api.riotgames.com/lol/match/v4/matches/3490000057\n",
      "Making call: https://kr.api.riotgames.com/lol/match/v4/matches/3490000058\n",
      "Making call: https://kr.api.riotgames.com/lol/match/v4/matches/3490000059\n",
      "Making call: https://kr.api.riotgames.com/lol/match/v4/matches/3490000060\n",
      "Making call: https://kr.api.riotgames.com/lol/match/v4/matches/3490000061\n",
      "Making call: https://kr.api.riotgames.com/lol/match/v4/matches/3490000062\n",
      "Making call: https://kr.api.riotgames.com/lol/match/v4/matches/3490000063\n",
      "Making call: https://kr.api.riotgames.com/lol/match/v4/matches/3490000064\n",
      "Making call: https://kr.api.riotgames.com/lol/match/v4/matches/3490000065\n",
      "Making call: https://kr.api.riotgames.com/lol/match/v4/matches/3490000066\n",
      "Making call: https://kr.api.riotgames.com/lol/match/v4/matches/3490000067\n",
      "Making call: https://kr.api.riotgames.com/lol/match/v4/matches/3490000068\n",
      "Making call: https://kr.api.riotgames.com/lol/match/v4/matches/3490000069\n",
      "Making call: https://kr.api.riotgames.com/lol/match/v4/matches/3490000070\n",
      "Making call: https://kr.api.riotgames.com/lol/match/v4/matches/3490000071\n",
      "Making call: https://kr.api.riotgames.com/lol/match/v4/matches/3490000072\n",
      "Making call: https://kr.api.riotgames.com/lol/match/v4/matches/3490000073\n",
      "Making call: https://kr.api.riotgames.com/lol/match/v4/matches/3490000074\n",
      "Making call: https://kr.api.riotgames.com/lol/match/v4/matches/3490000075\n",
      "Making call: https://kr.api.riotgames.com/lol/match/v4/matches/3490000076\n",
      "Making call: https://kr.api.riotgames.com/lol/match/v4/matches/3490000077\n",
      "Making call: https://kr.api.riotgames.com/lol/match/v4/matches/3490000078\n",
      "Making call: https://kr.api.riotgames.com/lol/match/v4/matches/3490000079\n",
      "Making call: https://kr.api.riotgames.com/lol/match/v4/matches/3490000080\n",
      "Making call: https://kr.api.riotgames.com/lol/match/v4/matches/3490000081\n",
      "Making call: https://kr.api.riotgames.com/lol/match/v4/matches/3490000082\n",
      "Making call: https://kr.api.riotgames.com/lol/match/v4/matches/3490000083\n",
      "Making call: https://kr.api.riotgames.com/lol/match/v4/matches/3490000084\n",
      "Making call: https://kr.api.riotgames.com/lol/match/v4/matches/3490000085\n",
      "Making call: https://kr.api.riotgames.com/lol/match/v4/matches/3490000086\n",
      "Making call: https://kr.api.riotgames.com/lol/match/v4/matches/3490000087\n",
      "Making call: https://kr.api.riotgames.com/lol/match/v4/matches/3490000088\n",
      "Making call: https://kr.api.riotgames.com/lol/match/v4/matches/3490000089\n",
      "Making call: https://kr.api.riotgames.com/lol/match/v4/matches/3490000090\n",
      "Making call: https://kr.api.riotgames.com/lol/match/v4/matches/3490000091\n",
      "Making call: https://kr.api.riotgames.com/lol/match/v4/matches/3490000092\n",
      "Making call: https://kr.api.riotgames.com/lol/match/v4/matches/3490000093\n",
      "Making call: https://kr.api.riotgames.com/lol/match/v4/matches/3490000094\n",
      "Making call: https://kr.api.riotgames.com/lol/match/v4/matches/3490000095\n",
      "Making call: https://kr.api.riotgames.com/lol/match/v4/matches/3490000096\n",
      "Making call: https://kr.api.riotgames.com/lol/match/v4/matches/3490000097\n",
      "Making call: https://kr.api.riotgames.com/lol/match/v4/matches/3490000098\n",
      "Making call: https://kr.api.riotgames.com/lol/match/v4/matches/3490000099\n",
      "Making call: https://kr.api.riotgames.com/lol/match/v4/matches/3490000100\n",
      "INFO: Unexpected service rate limit, backing off for 38 seconds (from headers).\n",
      "Making call: https://kr.api.riotgames.com/lol/match/v4/matches/3490000101\n",
      "Making call: https://kr.api.riotgames.com/lol/match/v4/matches/3490000102\n",
      "Making call: https://kr.api.riotgames.com/lol/match/v4/matches/3490000103\n",
      "Making call: https://kr.api.riotgames.com/lol/match/v4/matches/3490000104\n",
      "Making call: https://kr.api.riotgames.com/lol/match/v4/matches/3490000105\n",
      "Making call: https://kr.api.riotgames.com/lol/match/v4/matches/3490000106\n",
      "Making call: https://kr.api.riotgames.com/lol/match/v4/matches/3490000107\n"
     ]
    },
    {
     "name": "stdout",
     "output_type": "stream",
     "text": [
      "Making call: https://kr.api.riotgames.com/lol/match/v4/matches/3490000108\n",
      "Making call: https://kr.api.riotgames.com/lol/match/v4/matches/3490000109\n",
      "Making call: https://kr.api.riotgames.com/lol/match/v4/matches/3490000110\n",
      "Making call: https://kr.api.riotgames.com/lol/match/v4/matches/3490000111\n",
      "Making call: https://kr.api.riotgames.com/lol/match/v4/matches/3490000112\n",
      "Making call: https://kr.api.riotgames.com/lol/match/v4/matches/3490000113\n",
      "Making call: https://kr.api.riotgames.com/lol/match/v4/matches/3490000114\n",
      "Making call: https://kr.api.riotgames.com/lol/match/v4/matches/3490000115\n",
      "Making call: https://kr.api.riotgames.com/lol/match/v4/matches/3490000116\n",
      "Making call: https://kr.api.riotgames.com/lol/match/v4/matches/3490000117\n",
      "Making call: https://kr.api.riotgames.com/lol/match/v4/matches/3490000118\n",
      "Making call: https://kr.api.riotgames.com/lol/match/v4/matches/3490000119\n",
      "Making call: https://kr.api.riotgames.com/lol/match/v4/matches/3490000120\n",
      "Making call: https://kr.api.riotgames.com/lol/match/v4/matches/3490000121\n",
      "Making call: https://kr.api.riotgames.com/lol/match/v4/matches/3490000122\n",
      "Making call: https://kr.api.riotgames.com/lol/match/v4/matches/3490000123\n",
      "Making call: https://kr.api.riotgames.com/lol/match/v4/matches/3490000124\n",
      "Making call: https://kr.api.riotgames.com/lol/match/v4/matches/3490000125\n",
      "Making call: https://kr.api.riotgames.com/lol/match/v4/matches/3490000126\n",
      "Making call: https://kr.api.riotgames.com/lol/match/v4/matches/3490000127\n",
      "Making call: https://kr.api.riotgames.com/lol/match/v4/matches/3490000128\n",
      "Making call: https://kr.api.riotgames.com/lol/match/v4/matches/3490000129\n",
      "Making call: https://kr.api.riotgames.com/lol/match/v4/matches/3490000130\n",
      "Making call: https://kr.api.riotgames.com/lol/match/v4/matches/3490000131\n",
      "Making call: https://kr.api.riotgames.com/lol/match/v4/matches/3490000132\n"
     ]
    }
   ],
   "source": [
    "for i in ids :\n",
    "    dd = []\n",
    "    match = cass.get_match(i)\n",
    "    try :\n",
    "        assert match.version == '9.1.257.7563'\n",
    "        if match.queue.value in ['RANKED_SOLO_5x5'] :\n",
    "            for j in range(5) :\n",
    "                dd.append(match.blue_team.participants[j].champion.name)\n",
    "            for j in range(5) :\n",
    "                dd.append(match.blue_team.bans[j].name)\n",
    "            for j in range(5) :\n",
    "                dd.append(match.red_team.participants[j].champion.name)\n",
    "            for j in range(5) :\n",
    "                dd.append(match.red_team.bans[j].name)\n",
    "                \n",
    "            dd.append(match.blue_team.win)\n",
    "    except :\n",
    "        pass\n",
    "    data.append(dd)\n",
    "    \n",
    "    if len(data)==10000:\n",
    "        print(\"Making {}.pkl.\".foramt(k))\n",
    "        with open(os.path.join('../data/', dir_name, '{}.pkl'.format(k)), 'wb') as f:\n",
    "            pkl.dump(data, f)\n",
    "        k+=1\n",
    "        data = []\n",
    "\n",
    "if len(data)!=0:\n",
    "    with open(os.path.join('../data/', dir_name, '{}.pkl'.format(k)), 'wb') as f:\n",
    "        pkl.dump(data, f)"
   ]
  }
 ],
 "metadata": {
  "kernelspec": {
   "display_name": "lolpickk",
   "language": "python",
   "name": "lolpickk"
  },
  "language_info": {
   "codemirror_mode": {
    "name": "ipython",
    "version": 3
   },
   "file_extension": ".py",
   "mimetype": "text/x-python",
   "name": "python",
   "nbconvert_exporter": "python",
   "pygments_lexer": "ipython3",
   "version": "3.7.1"
  }
 },
 "nbformat": 4,
 "nbformat_minor": 2
}
