{
 "cells": [
  {
   "cell_type": "markdown",
   "metadata": {},
   "source": [
    "### Rate Limits\n",
    "\n",
    "- 20 requests every 1 seconds \n",
    "- 100 requests every 2 minutes\n",
    "\n",
    "### First get 10000 match histories.\n",
    "\n",
    "- First 10 columns are the champions for blue team, red team and the last columns stands for \"Blue team won\""
   ]
  },
  {
   "cell_type": "code",
   "execution_count": 1,
   "metadata": {
    "ExecuteTime": {
     "end_time": "2019-01-18T07:13:32.944729Z",
     "start_time": "2019-01-18T07:13:25.751113Z"
    }
   },
   "outputs": [
    {
     "name": "stdout",
     "output_type": "stream",
     "text": [
      "Enter Riot API key:········\n"
     ]
    }
   ],
   "source": [
    "import cassiopeia as cass\n",
    "import getpass\n",
    "import random\n",
    "\n",
    "key = getpass.getpass(\"Enter Riot API key:\")"
   ]
  },
  {
   "cell_type": "code",
   "execution_count": 2,
   "metadata": {
    "ExecuteTime": {
     "end_time": "2019-01-18T07:13:34.250761Z",
     "start_time": "2019-01-18T07:13:34.235581Z"
    },
    "collapsed": true
   },
   "outputs": [],
   "source": [
    "cass.set_riot_api_key(key)  # This overrides the value set in your configuration/settings.\n",
    "cass.set_default_region(\"KR\")"
   ]
  },
  {
   "cell_type": "code",
   "execution_count": 3,
   "metadata": {
    "ExecuteTime": {
     "end_time": "2019-01-18T07:13:34.749863Z",
     "start_time": "2019-01-18T07:13:34.745369Z"
    },
    "collapsed": true
   },
   "outputs": [],
   "source": [
    "match = cass.get_match(3492500002)"
   ]
  },
  {
   "cell_type": "code",
   "execution_count": 4,
   "metadata": {
    "ExecuteTime": {
     "end_time": "2019-01-18T07:13:35.853571Z",
     "start_time": "2019-01-18T07:13:35.159770Z"
    }
   },
   "outputs": [
    {
     "name": "stdout",
     "output_type": "stream",
     "text": [
      "Making call: https://ddragon.leagueoflegends.com/realms/kr.json\n",
      "Making call: https://kr.api.riotgames.com/lol/match/v4/matches/3492500002\n",
      "Making call: https://kr.api.riotgames.com/lol/league/v4/positions/by-summoner/YeE2YgdwrGeM9m1b4dH-xPrJiA8ovJEnhJVbRfleQdNLAgU\n"
     ]
    },
    {
     "data": {
      "text/plain": [
       "<cassiopeia.data.Rank at 0x7f98dd1dbe80>"
      ]
     },
     "execution_count": 4,
     "metadata": {},
     "output_type": "execute_result"
    }
   ],
   "source": [
    "(match.blue_team.participants[0]).summoner.ranks[match.queue]"
   ]
  },
  {
   "cell_type": "code",
   "execution_count": 5,
   "metadata": {
    "ExecuteTime": {
     "end_time": "2019-01-18T07:13:36.486566Z",
     "start_time": "2019-01-18T07:13:36.325712Z"
    },
    "collapsed": true
   },
   "outputs": [],
   "source": [
    "import pickle as pkl\n",
    "import os\n",
    "import pandas as pd\n",
    "from cassiopeia.datastores.riotapi.common import APIRequestError, APIError\n",
    "from datapipelines.pipelines import NotFoundError\n"
   ]
  },
  {
   "cell_type": "code",
   "execution_count": 6,
   "metadata": {
    "ExecuteTime": {
     "end_time": "2019-01-18T07:13:36.838203Z",
     "start_time": "2019-01-18T07:13:36.835307Z"
    },
    "collapsed": true
   },
   "outputs": [],
   "source": [
    "def get_lane(participant):\n",
    "    try:\n",
    "        lane = participant.lane.name\n",
    "        if lane =='bot_lane':\n",
    "            lane = participant.role.name\n",
    "        return lane\n",
    "    except AttributeError:\n",
    "        return 'No info'"
   ]
  },
  {
   "cell_type": "code",
   "execution_count": 7,
   "metadata": {
    "ExecuteTime": {
     "end_time": "2019-01-18T07:13:37.681265Z",
     "start_time": "2019-01-18T07:13:37.666394Z"
    },
    "collapsed": true
   },
   "outputs": [],
   "source": [
    "def get_data(i):\n",
    "    dd = []\n",
    "    match = cass.get_match(i)\n",
    "    try:\n",
    "        version = match.version\n",
    "        queue = match.queue.value\n",
    "    except APIRequestError:\n",
    "        print('Your API key has expired.')\n",
    "        key = getpass.getpass(\"Enter new Riot API key:\")\n",
    "        cass.set_riot_api_key(key)\n",
    "        try:\n",
    "            version = match.version\n",
    "            queue = match.queue.value\n",
    "        except:\n",
    "            return []\n",
    "    except:\n",
    "        return []\n",
    "        \n",
    "    if queue in ['RANKED_SOLO_5x5'] and version == '9.1.257.7563':        \n",
    "        for participant in match.blue_team.participants :\n",
    "            try:\n",
    "                lane = get_lane(participant)\n",
    "                champion = participant.champion.name\n",
    "                rank = participant.summoner.ranks[match.queue]\n",
    "                tier = ' '.join([rank.tier.name, rank.division.name])\n",
    "            except APIRequestError:\n",
    "                print('Your API key has expired.')\n",
    "                key = getpass.getpass(\"Enter new Riot API key:\")\n",
    "                cass.set_riot_api_key(key)\n",
    "                lane = get_lane(participant)\n",
    "                champion = participant.champion.name\n",
    "                rank = participant.summoner.ranks[match.queue]\n",
    "                tier = ' '.join([rank.tier.name, rank.division.name])\n",
    "            \n",
    "            dd.append((lane, participant.champion.name, tier))\n",
    "            \n",
    "        for ban in match.blue_team.bans:\n",
    "            try:\n",
    "                dd.append(ban.name)\n",
    "            except AttributeError:\n",
    "                dd.append('밴없음')\n",
    "                \n",
    "        for participant in match.red_team.participants :\n",
    "            try:\n",
    "                lane = get_lane(participant)\n",
    "                champion = participant.champion.name\n",
    "                rank = participant.summoner.ranks[match.queue]\n",
    "                tier = ' '.join([rank.tier.name, rank.division.name])\n",
    "            except APIRequestError:\n",
    "                print('Your API key has expired.')\n",
    "                key = getpass.getpass(\"Enter new Riot API key:\")\n",
    "                cass.set_riot_api_key(key)\n",
    "                lane = get_lane(participant)\n",
    "                champion = participant.champion.name\n",
    "                rank = participant.summoner.ranks[match.queue]\n",
    "                tier = ' '.join([rank.tier.name, rank.division.name])\n",
    "            \n",
    "            dd.append((lane, participant.champion.name, tier))\n",
    "            \n",
    "        for ban in match.red_team.bans:\n",
    "            try:\n",
    "                dd.append(ban.name)\n",
    "            except AttributeError:\n",
    "                dd.append('밴없음')\n",
    "\n",
    "        dd.append(match.blue_team.win)\n",
    "        print('Match id {} is valid.'.format(i))\n",
    "    return dd"
   ]
  },
  {
   "cell_type": "markdown",
   "metadata": {},
   "source": [
    "# Set start_id and end_id\n",
    "\n",
    "||start_id|end_id|\n",
    "|----------|------------|------------|\n",
    "| Jaewoo   | 3490000000 | 3492500000 |\n",
    "| Jinyoung | 3492500001 | 3495000000 |\n",
    "| Hwi      | 3495000001 | 3475000000 |\n",
    "| Q        | 3475000001 | 3500000000 |"
   ]
  },
  {
   "cell_type": "code",
   "execution_count": 8,
   "metadata": {
    "ExecuteTime": {
     "end_time": "2019-01-18T07:13:38.682952Z",
     "start_time": "2019-01-18T07:13:38.677500Z"
    },
    "collapsed": true
   },
   "outputs": [],
   "source": [
    "start_id = 3492500001\n",
    "end_id = 3495000000\n",
    "ids = range(start_id, end_id)\n",
    "\n",
    "dir_name = '{}-{}'.format(start_id, end_id)\n",
    "os.mkdir(os.path.join('../data/',dir_name))\n",
    "\n",
    "data = []\n",
    "user = os.path.realpath('.').split('/')[2]\n",
    "k=0"
   ]
  },
  {
   "cell_type": "code",
   "execution_count": null,
   "metadata": {
    "ExecuteTime": {
     "start_time": "2019-01-18T07:13:38.718Z"
    }
   },
   "outputs": [
    {
     "name": "stdout",
     "output_type": "stream",
     "text": [
      "Making call: https://kr.api.riotgames.com/lol/match/v4/matches/3492500001\n",
      "Making call: https://ddragon.leagueoflegends.com/cdn/9.1.1/data/ko_KR/championFull.json\n",
      "Making call: https://kr.api.riotgames.com/lol/league/v4/positions/by-summoner/4SkHNVTh2cStL2bo_0sZe9wdfn55Kj-tYL4glvbZ3QEy85I\n",
      "Making call: https://kr.api.riotgames.com/lol/league/v4/positions/by-summoner/tz140m4nvgh7Z6po6sb-KI6zTW1RCsdD12b3QdAeLqNn9Q\n",
      "Making call: https://kr.api.riotgames.com/lol/league/v4/positions/by-summoner/teM6qGcPOV1RmcgW6tmtQ5WtjdlaKkMNPgPx9hFM3r0DpQ0\n",
      "Making call: https://kr.api.riotgames.com/lol/league/v4/positions/by-summoner/xRibK94j_1YUTIa96ioPpYtdDRBv92jr7EDqkNY37jsVKNI\n",
      "Making call: https://kr.api.riotgames.com/lol/league/v4/positions/by-summoner/1NuPRHHfoaWDgrmI0rdUtYOjemjKmjq4KrW2aKzhyH3A2w\n",
      "Making call: https://kr.api.riotgames.com/lol/league/v4/positions/by-summoner/Nfvoyzj6OHOXy08KzOfCSujSQpCnjLx3DK_BHZ_7ye7Eqg\n",
      "Making call: https://kr.api.riotgames.com/lol/league/v4/positions/by-summoner/VINKMr1lzAnloJF5e4VEbndrtEU_MUcBgNt9KUmdNqLA_Fs\n",
      "Making call: https://kr.api.riotgames.com/lol/league/v4/positions/by-summoner/ryN_l0Arw8MGymOr8BFhonLxtaO8q4FImOVXEj05fqSR5yg\n",
      "Making call: https://kr.api.riotgames.com/lol/league/v4/positions/by-summoner/LllVFLc8QaSgF_rjKzaRMasFsR4C_LJKO5XSdj7w5eEW5g\n",
      "Match id 3492500002 is valid.\n",
      "Making call: https://kr.api.riotgames.com/lol/match/v4/matches/3492500003\n",
      "Making call: https://kr.api.riotgames.com/lol/league/v4/positions/by-summoner/1a4ZM2hg1wIdXDMkExZqvseTmHAQVtFTixJoVoSs6TvJRMY\n",
      "Making call: https://kr.api.riotgames.com/lol/league/v4/positions/by-summoner/xgDhm-YXiWTUsQwylnSvPx_yCO5YiXbmrAA4QfceNw2CMw\n",
      "Making call: https://kr.api.riotgames.com/lol/league/v4/positions/by-summoner/9Tu6AAAavWzK79lu1Slljrj3lD8nAN_WRqE5S9qATjpM5I8\n",
      "Making call: https://kr.api.riotgames.com/lol/league/v4/positions/by-summoner/ITVyYl0MyAyc6H9INbbUm8KIEInQInq5FlnCfPnIYgqziQ\n",
      "Making call: https://kr.api.riotgames.com/lol/league/v4/positions/by-summoner/wSy-n_XX-KcgQJplc_zpoWLX1BCbUeX12QqsQKmjyt3wTQ\n",
      "Making call: https://kr.api.riotgames.com/lol/league/v4/positions/by-summoner/lWB5JJO5aZPaKQug9KLgWTZ-VtxB1tivNcMmngybqClhxA\n",
      "Making call: https://kr.api.riotgames.com/lol/league/v4/positions/by-summoner/qNAaaRIkr2gHbv5IdCULetIWLjYvvg_fXpUZFM4rrHw9pA\n",
      "Making call: https://kr.api.riotgames.com/lol/league/v4/positions/by-summoner/FYaFb6SJ45dAAZoiGrsHfEJWAxxq41UambMhpzyRQg98Jg\n",
      "Making call: https://kr.api.riotgames.com/lol/league/v4/positions/by-summoner/qNgv4pKV6zTcgfhztu8IoCp1DGrbnSTHSBGO6QdwUYZ7ss0\n",
      "Making call: https://kr.api.riotgames.com/lol/league/v4/positions/by-summoner/mC5lYlhY1RaxKzGKITyI60HtEW0Epss--2FzfOEuJKlallw\n",
      "Match id 3492500003 is valid.\n",
      "Making call: https://kr.api.riotgames.com/lol/match/v4/matches/3492500004\n",
      "Making call: https://kr.api.riotgames.com/lol/match/v4/matches/3492500005\n",
      "Making call: https://kr.api.riotgames.com/lol/match/v4/matches/3492500006\n",
      "Making call: https://kr.api.riotgames.com/lol/match/v4/matches/3492500007\n",
      "Making call: https://kr.api.riotgames.com/lol/match/v4/matches/3492500008\n",
      "Making call: https://kr.api.riotgames.com/lol/match/v4/matches/3492500009\n",
      "Making call: https://kr.api.riotgames.com/lol/match/v4/matches/3492500010\n",
      "Making call: https://kr.api.riotgames.com/lol/match/v4/matches/3492500011\n",
      "Making call: https://kr.api.riotgames.com/lol/match/v4/matches/3492500012\n",
      "Making call: https://kr.api.riotgames.com/lol/league/v4/positions/by-summoner/I_SoIla1g9v8ulI9IrNfxshXhDPWEnD-Owb5OC8VFLS_BEU\n",
      "Making call: https://kr.api.riotgames.com/lol/league/v4/positions/by-summoner/kYmn74Q3seTtaNm9g0l3FDg0QR1GTqs_iPx2uNo-HjaaTw\n",
      "Making call: https://kr.api.riotgames.com/lol/league/v4/positions/by-summoner/XdLVjMo263K5nGZPOJEWW-C_yCZf-drdObm2qf0f1pnXOKY\n",
      "Making call: https://kr.api.riotgames.com/lol/league/v4/positions/by-summoner/f-y9RMPgkiqcpjI6FMFgSCAJJCGZhG93IcIdcG4TB8FUyt8\n",
      "Making call: https://kr.api.riotgames.com/lol/league/v4/positions/by-summoner/D2G9MLLAf-OE1ufRHG-5wlPYt_nStmTZ0nUea1qcmvRM1PU\n",
      "Making call: https://kr.api.riotgames.com/lol/league/v4/positions/by-summoner/qeO1VIyGGL9wtVYbZqJyGzEEp3Lhhesg2_cTJ2k4CkD0mLw\n",
      "Making call: https://kr.api.riotgames.com/lol/league/v4/positions/by-summoner/bkqc0Zzl0S1RhUOlsdkNFhSgnzmvZNtvaVTQtJ7PNJ5rTrY\n",
      "Making call: https://kr.api.riotgames.com/lol/league/v4/positions/by-summoner/GeHndvJ450K2xnapD-ELnAkR7_cJ1f3liF6XBTWrydHAyQ\n",
      "Making call: https://kr.api.riotgames.com/lol/league/v4/positions/by-summoner/YQP2xQk1-ELuvwlyDWCbP0bBTryiXf26xhz_4uA0lldT7w\n",
      "Making call: https://kr.api.riotgames.com/lol/league/v4/positions/by-summoner/f2xHdwP2JnV8uZ4lYjO_0FgLuD8FwHp1CI3JHxHrbPv03_Q\n",
      "Match id 3492500012 is valid.\n",
      "Making call: https://kr.api.riotgames.com/lol/match/v4/matches/3492500013\n",
      "Making call: https://kr.api.riotgames.com/lol/match/v4/matches/3492500014\n",
      "Making call: https://kr.api.riotgames.com/lol/match/v4/matches/3492500015\n",
      "Making call: https://kr.api.riotgames.com/lol/match/v4/matches/3492500016\n",
      "Making call: https://kr.api.riotgames.com/lol/match/v4/matches/3492500017\n",
      "Making call: https://kr.api.riotgames.com/lol/match/v4/matches/3492500018\n",
      "Making call: https://kr.api.riotgames.com/lol/match/v4/matches/3492500019\n",
      "Making call: https://kr.api.riotgames.com/lol/match/v4/matches/3492500020\n",
      "Making call: https://kr.api.riotgames.com/lol/match/v4/matches/3492500021\n",
      "Making call: https://kr.api.riotgames.com/lol/league/v4/positions/by-summoner/oMoQTId5aa3Z4dm_fhjOYi7TUEx2F4Yub5kva4E6ooawYXI\n",
      "Making call: https://kr.api.riotgames.com/lol/league/v4/positions/by-summoner/y77zshdYJMMAfc5bDoJt7BV0hcW7ceLokODaZMI8ggIYeg\n",
      "Making call: https://kr.api.riotgames.com/lol/league/v4/positions/by-summoner/AY9rtPe4AGLlOA1p-wr4Y1mD4_FhHvlB9Grim6Gkb_GYNDI\n",
      "Making call: https://kr.api.riotgames.com/lol/league/v4/positions/by-summoner/Yvv9NbCJbQjDYy45hueEz14bKpMH6Rvjt9vIKOA2M335Z0Y\n",
      "Making call: https://kr.api.riotgames.com/lol/league/v4/positions/by-summoner/4vi6iyv8tuRsV61eNRccGvFS3yUlGFnio00emQFGRUufZw\n",
      "Making call: https://kr.api.riotgames.com/lol/league/v4/positions/by-summoner/9uWd3cDzMQrztkJzsZpQ2eahW5aTh9rNNcZaHdTQeTD0eg\n",
      "Making call: https://kr.api.riotgames.com/lol/league/v4/positions/by-summoner/hdoduDjBisdXIL-Za_d3DhAR17zeQUL5F-6PJbJawjW2ng\n",
      "Making call: https://kr.api.riotgames.com/lol/league/v4/positions/by-summoner/MoxbeVhT26vhneisQzuTbVmgAzMYVu6cPqHpBFdLAMRScQ\n",
      "Making call: https://kr.api.riotgames.com/lol/league/v4/positions/by-summoner/5tWLDc9Q_nUJhfJNpNS_G2NFwZjRlxyfJz5rZqXG3X_VT-c\n",
      "Making call: https://kr.api.riotgames.com/lol/league/v4/positions/by-summoner/xzQYtKsmxrMSIvQsEih76Lg_PGy2qbnKvHS3SJF46Lk3qBE\n",
      "Match id 3492500021 is valid.\n",
      "Making call: https://kr.api.riotgames.com/lol/match/v4/matches/3492500022\n",
      "Making call: https://kr.api.riotgames.com/lol/match/v4/matches/3492500023\n",
      "Making call: https://kr.api.riotgames.com/lol/match/v4/matches/3492500024\n",
      "Making call: https://kr.api.riotgames.com/lol/match/v4/matches/3492500025\n",
      "Making call: https://kr.api.riotgames.com/lol/match/v4/matches/3492500026\n",
      "Making call: https://kr.api.riotgames.com/lol/match/v4/matches/3492500027\n",
      "Making call: https://kr.api.riotgames.com/lol/match/v4/matches/3492500028\n",
      "Making call: https://kr.api.riotgames.com/lol/league/v4/positions/by-summoner/mpKCg-KZACdqcq6XOk86RWd0T_FqniCW2O_N53VvoEGeh0Q\n",
      "Making call: https://kr.api.riotgames.com/lol/league/v4/positions/by-summoner/L0yPfV0nFlZsnJUySHEtdzJV92Tnx3NIHIhr1mjryJpc1Q\n",
      "Making call: https://kr.api.riotgames.com/lol/league/v4/positions/by-summoner/L6GVPIlbgHiYf00G9YvQ13HODOyMsQ-wz3PKF6RBUHUjPyE\n",
      "Making call: https://kr.api.riotgames.com/lol/league/v4/positions/by-summoner/hJVIlui7EupzghpwDa-OmyEB-AuqMSHSSfWROc7qA17d4zQ\n",
      "Making call: https://kr.api.riotgames.com/lol/league/v4/positions/by-summoner/2Zhs-lA8UFEXaU1LPUoJyoNPoOTW6dD_Z5tPPdX3xNaYQMM\n",
      "Making call: https://kr.api.riotgames.com/lol/league/v4/positions/by-summoner/PeEGwtmR9YVaoqPG4uAvnSG_d-dcXRXMlB--3yn54zqc7U0\n",
      "Making call: https://kr.api.riotgames.com/lol/league/v4/positions/by-summoner/YFdzvK3lgal4Ydi1VIrjJC61OrB7nPQETUtJi8GUedc3jL0\n",
      "Making call: https://kr.api.riotgames.com/lol/league/v4/positions/by-summoner/3ZbJvTx7NUxgxEllgaUOcx0o_mPZW_XQb3Pu-t-pgM5zsjM\n",
      "Making call: https://kr.api.riotgames.com/lol/league/v4/positions/by-summoner/coblpoPev4mCvYPHSaQj0KGEhCydHxty6IoQXDeK0DX_guk\n"
     ]
    },
    {
     "name": "stdout",
     "output_type": "stream",
     "text": [
      "Making call: https://kr.api.riotgames.com/lol/league/v4/positions/by-summoner/DG4NtV4auv2n9WFsHmTJhIuMLKlE-D8ISVImKdWJNtmSOw\n",
      "Match id 3492500028 is valid.\n",
      "Making call: https://kr.api.riotgames.com/lol/match/v4/matches/3492500029\n",
      "Making call: https://kr.api.riotgames.com/lol/match/v4/matches/3492500030\n",
      "Making call: https://kr.api.riotgames.com/lol/league/v4/positions/by-summoner/ChYPCimp2bp1Mg3Yvi6DitSE_NXxV0tPCKm9IQCFx_IXKzE\n",
      "Making call: https://kr.api.riotgames.com/lol/league/v4/positions/by-summoner/OcOXgWsMRbCswlTRQPARZBO_rhm_lBKYySET43z4LoqEPs4\n",
      "Making call: https://kr.api.riotgames.com/lol/league/v4/positions/by-summoner/RguBluhQ9QvLyaNYfXnusSDXWX8xWzU6zgngtf5JDqVyCA\n",
      "Making call: https://kr.api.riotgames.com/lol/league/v4/positions/by-summoner/K-mlsm-4l40-yRw8TXkjp7PsVsaMmJsCeLoS_ZI5RazRYW4\n",
      "Making call: https://kr.api.riotgames.com/lol/league/v4/positions/by-summoner/nUa0J4BJxxHvWn3dzlWWKXFF0G6GPkybu-o_2LTyNaLpJbQ\n",
      "Making call: https://kr.api.riotgames.com/lol/league/v4/positions/by-summoner/_U_KOMCUdgbXoZvCQ2UMRejEs5lzzMHBieMGGpko0zsnBSc\n",
      "Making call: https://kr.api.riotgames.com/lol/league/v4/positions/by-summoner/OQoWuramJp1vbA7pdrFfFQGQM26Vvp8313Gq1-sHiZMI6So\n",
      "Making call: https://kr.api.riotgames.com/lol/league/v4/positions/by-summoner/pyqYqZA_ZGPzCQmgjouoUgLaXMgwl5BiWaCUxPEpJMGu7Z8\n",
      "Making call: https://kr.api.riotgames.com/lol/league/v4/positions/by-summoner/0hDZMYxlBJ6zwZ17GmHt5rJ0sBfuQ38gH3W9jfcr7P2vw0c\n",
      "Making call: https://kr.api.riotgames.com/lol/league/v4/positions/by-summoner/9bft8HH_lJF4pktKJG8MU0riy2BeNb355mBComy0shaTWZ4\n",
      "Match id 3492500030 is valid.\n",
      "Making call: https://kr.api.riotgames.com/lol/match/v4/matches/3492500031\n",
      "Making call: https://kr.api.riotgames.com/lol/match/v4/matches/3492500032\n",
      "Making call: https://kr.api.riotgames.com/lol/league/v4/positions/by-summoner/W8WUIdo7jHoVrSYRpBluec2BaN58yTQrY4mFZHsOJ89w3w\n",
      "Making call: https://kr.api.riotgames.com/lol/league/v4/positions/by-summoner/WA9kZEqxWZtwBAW89UHQxsO0PlFfyKHfC3f48JFSFlaGUQ\n",
      "Making call: https://kr.api.riotgames.com/lol/league/v4/positions/by-summoner/Z6mfbzVkfqyp5ujaMBAg24IAOLpkuGw-ozvmdl5w9lndG6o\n",
      "Making call: https://kr.api.riotgames.com/lol/league/v4/positions/by-summoner/EQpRaqARpPl--ZFlWDB367GaF5F0dUJzmAvNWw9G0o3YwQ\n",
      "Making call: https://kr.api.riotgames.com/lol/league/v4/positions/by-summoner/_NRcgoUadcrBz6ovRvjPHm9kamjFV-CneX2ed3Qek-Bd4g\n",
      "Making call: https://kr.api.riotgames.com/lol/league/v4/positions/by-summoner/GGIXz2KQoy7e5e7PYFB6zAh30T5DDuLXAwwS3dnMfbvEUQ\n",
      "Making call: https://kr.api.riotgames.com/lol/league/v4/positions/by-summoner/sx8DpKoJtC-bF4bU3okkAM7CtTLaqg8Kx3j4z2uLnMBnixc\n",
      "Making call: https://kr.api.riotgames.com/lol/league/v4/positions/by-summoner/igmN3l1rFjgRLAD4n5ElBlEGFwmG5BS6-AWz9fgGc56F9pE\n",
      "Making call: https://kr.api.riotgames.com/lol/league/v4/positions/by-summoner/5-LXxmYQrUnyczpklCyl4PQCxUJ62VHT67Zdz1ZYLqpKdjc\n",
      "INFO: Unexpected service rate limit, backing off for 52 seconds (from headers).\n"
     ]
    }
   ],
   "source": [
    "for i in ids:\n",
    "    try:\n",
    "        dd = get_data(i)\n",
    "        if len(dd)!=0:\n",
    "            data.append(dd)\n",
    "        if len(data)==2000:\n",
    "            print(\"Making {}.pkl.\".format(k))\n",
    "            with open(os.path.join('../data/', dir_name, '{}.pkl'.format(k)), 'wb') as f:\n",
    "                pkl.dump(data, f)\n",
    "            k+=1\n",
    "            data = []\n",
    "    except:\n",
    "        print('Error occured for {}'.format(i))\n",
    "        continue\n",
    "\n",
    "if len(data)!=0:\n",
    "    with open(os.path.join('../data/', dir_name, '{}.pkl'.format(k)), 'wb') as f:\n",
    "        pkl.dump(data, f)\n",
    "        "
   ]
  }
 ],
 "metadata": {
  "kernelspec": {
   "display_name": "lolpickk",
   "language": "python",
   "name": "lolpickk"
  },
  "language_info": {
   "codemirror_mode": {
    "name": "ipython",
    "version": 3
   },
   "file_extension": ".py",
   "mimetype": "text/x-python",
   "name": "python",
   "nbconvert_exporter": "python",
   "pygments_lexer": "ipython3",
   "version": "3.7.1"
  }
 },
 "nbformat": 4,
 "nbformat_minor": 2
}
