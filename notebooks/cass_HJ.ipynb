{
 "cells": [
  {
   "cell_type": "markdown",
   "metadata": {},
   "source": [
    "We'll use https://cassiopeia.readthedocs.io/en/latest/ to download data."
   ]
  },
  {
   "cell_type": "code",
   "execution_count": 192,
   "metadata": {
    "ExecuteTime": {
     "end_time": "2018-12-29T07:34:33.902273Z",
     "start_time": "2018-12-29T07:34:33.148564Z"
    }
   },
   "outputs": [
    {
     "name": "stdout",
     "output_type": "stream",
     "text": [
      "Enter Riot API key:········\n"
     ]
    }
   ],
   "source": [
    "import getpass\n",
    "import random\n",
    "\n",
    "key = getpass.getpass(\"Enter Riot API key:\")"
   ]
  },
  {
   "cell_type": "code",
   "execution_count": 193,
   "metadata": {
    "ExecuteTime": {
     "end_time": "2018-12-29T07:34:34.627218Z",
     "start_time": "2018-12-29T07:34:34.622764Z"
    }
   },
   "outputs": [],
   "source": [
    "from cassiopeia import Champion, Champions, Summoner\n",
    "\n",
    "import cassiopeia as cass\n",
    "\n",
    "cass.set_riot_api_key(key)  # This overrides the value set in your configuration/settings.\n",
    "cass.set_default_region(\"NA\")"
   ]
  },
  {
   "cell_type": "code",
   "execution_count": 194,
   "metadata": {
    "ExecuteTime": {
     "end_time": "2018-12-29T07:34:35.816037Z",
     "start_time": "2018-12-29T07:34:35.185233Z"
    }
   },
   "outputs": [
    {
     "name": "stdout",
     "output_type": "stream",
     "text": [
      "Making call: https://na1.api.riotgames.com/lol/match/v3/matchlists/by-account/50330641?beginIndex=0&endIndex=100\n"
     ]
    }
   ],
   "source": [
    "all_champions = Champions(region=\"NA\")\n",
    "teemo = all_champions[\"Teemo\"]\n",
    "a_teemo_game = Summoner(account=50330641, region=\"NA\").match_history[teemo]"
   ]
  },
  {
   "cell_type": "code",
   "execution_count": 195,
   "metadata": {
    "ExecuteTime": {
     "end_time": "2018-12-29T07:34:36.083368Z",
     "start_time": "2018-12-29T07:34:36.072459Z"
    }
   },
   "outputs": [
    {
     "name": "stdout",
     "output_type": "stream",
     "text": [
      "dskjbfksaf is a level 59 summoner on the Region.korea server.\n",
      "He enjoys playing champions such as 마스터 이.\n",
      "He's not as good as Eddie Peng Yuyan at League, but probably a better python programmer!\n"
     ]
    }
   ],
   "source": [
    "import random\n",
    "\n",
    "import cassiopeia as cass\n",
    "\n",
    "cass.set_riot_api_key(key)  # This overrides the value set in your configuration/settings.\n",
    "cass.set_default_region(\"KR\")\n",
    "\n",
    "summoner = cass.get_summoner(name=\"dskjbfksaf\")\n",
    "print(\"{name} is a level {level} summoner on the {region} server.\".format(name=summoner.name,\n",
    "                                                                          level=summoner.level,\n",
    "                                                                          region=summoner.region))\n",
    "\n",
    "champions = cass.get_champions()\n",
    "random_champion = random.choice(champions)\n",
    "print(\"He enjoys playing champions such as {name}.\".format(name=random_champion.name))\n",
    "\n",
    "challenger_league = cass.get_challenger_league(queue=cass.Queue.ranked_solo_fives)\n",
    "best_na = challenger_league[0].summoner\n",
    "print(\"He's not as good as {name} at League, but probably a better python programmer!\".format(name=best_na.name))"
   ]
  },
  {
   "cell_type": "code",
   "execution_count": 253,
   "metadata": {
    "ExecuteTime": {
     "end_time": "2018-12-29T08:01:40.399693Z",
     "start_time": "2018-12-29T08:01:40.393972Z"
    }
   },
   "outputs": [],
   "source": [
    "import cassiopeia as cass\n",
    "\n",
    "summoner = cass.get_summoner(name=\"벤젠덴겐\")\n",
    "match_hist = cass.get_match_history(summoner)"
   ]
  },
  {
   "cell_type": "code",
   "execution_count": 254,
   "metadata": {
    "ExecuteTime": {
     "end_time": "2018-12-29T08:01:40.650359Z",
     "start_time": "2018-12-29T08:01:40.642385Z"
    }
   },
   "outputs": [
    {
     "data": {
      "text/plain": [
       "'공간의 파수꾼'"
      ]
     },
     "execution_count": 254,
     "metadata": {},
     "output_type": "execute_result"
    }
   ],
   "source": [
    "summoner.current_match.teams[0].participants[4].summoner.name"
   ]
  },
  {
   "cell_type": "code",
   "execution_count": 255,
   "metadata": {
    "ExecuteTime": {
     "end_time": "2018-12-29T08:01:41.263847Z",
     "start_time": "2018-12-29T08:01:40.834489Z"
    }
   },
   "outputs": [
    {
     "name": "stdout",
     "output_type": "stream",
     "text": [
      "Making call: https://kr.api.riotgames.com/lol/match/v3/matchlists/by-account/209691368?beginIndex=0&endIndex=100\n",
      "벤젠덴겐\n",
      "전투둥둥\n",
      "지원되지않는이름\n",
      "공간의 파수꾼\n",
      "엉클부산\n",
      "잎새에 이는\n",
      "빨리하자걍\n",
      "I Sinseonhye\n",
      "이기고싶은간절함\n",
      "존1나쎄게때리기\n"
     ]
    }
   ],
   "source": [
    "for i in range(10) : \n",
    "    print(match_hist[0].participants[i].summoner.name)"
   ]
  },
  {
   "cell_type": "code",
   "execution_count": 267,
   "metadata": {
    "ExecuteTime": {
     "end_time": "2018-12-29T08:07:12.337725Z",
     "start_time": "2018-12-29T08:07:12.332420Z"
    }
   },
   "outputs": [
    {
     "data": {
      "text/plain": [
       "3475358193"
      ]
     },
     "execution_count": 267,
     "metadata": {},
     "output_type": "execute_result"
    }
   ],
   "source": [
    "match_hist[0].id"
   ]
  },
  {
   "cell_type": "code",
   "execution_count": 256,
   "metadata": {
    "ExecuteTime": {
     "end_time": "2018-12-29T08:01:41.269884Z",
     "start_time": "2018-12-29T08:01:41.265993Z"
    }
   },
   "outputs": [
    {
     "data": {
      "text/plain": [
       "'소환사의 협곡'"
      ]
     },
     "execution_count": 256,
     "metadata": {},
     "output_type": "execute_result"
    }
   ],
   "source": [
    "import cassiopeia as cass\n",
    "\n",
    "match_hist[0].map.name"
   ]
  },
  {
   "cell_type": "code",
   "execution_count": 258,
   "metadata": {
    "ExecuteTime": {
     "end_time": "2018-12-29T08:01:44.625663Z",
     "start_time": "2018-12-29T08:01:44.620694Z"
    }
   },
   "outputs": [],
   "source": [
    "match_hist = cass.get_match_history(summoner)"
   ]
  },
  {
   "cell_type": "code",
   "execution_count": 259,
   "metadata": {
    "ExecuteTime": {
     "end_time": "2018-12-29T08:01:45.488306Z",
     "start_time": "2018-12-29T08:01:45.101155Z"
    }
   },
   "outputs": [
    {
     "name": "stdout",
     "output_type": "stream",
     "text": [
      "Making call: https://kr.api.riotgames.com/lol/match/v3/matchlists/by-account/209691368?beginIndex=0&endIndex=100\n",
      "blue team :  전투둥둥 win\n",
      "blue team :  벤젠덴겐 win\n",
      "blue team :  지원되지않는이름 win\n",
      "blue team :  공간의 파수꾼 win\n",
      "blue team :  엉클부산 win\n",
      "red team :  잎새에 이는 loose\n",
      "red team :  빨리하자걍 loose\n",
      "red team :  I Sinseonhye loose\n",
      "red team :  이기고싶은간절함 loose\n",
      "red team :  존1나쎄게때리기 loose\n"
     ]
    }
   ],
   "source": [
    "for i in range(5) : \n",
    "    if match_hist[0].teams[0].win : \n",
    "        print('blue team : ', match_hist[0].teams[0].participants[i].summoner.name, 'win')\n",
    "    else :\n",
    "        print('blue team : ', match_hist[0].teams[0].participants[i].summoner.name, 'loose')\n",
    "for i in range(5) :\n",
    "    if match_hist[0].teams[1].win : \n",
    "        print('red team : ', match_hist[0].teams[1].participants[i].summoner.name, 'win')\n",
    "    else :\n",
    "        print('red team : ', match_hist[0].teams[1].participants[i].summoner.name, 'loose')"
   ]
  },
  {
   "cell_type": "code",
   "execution_count": 260,
   "metadata": {
    "ExecuteTime": {
     "end_time": "2018-12-29T08:01:47.379387Z",
     "start_time": "2018-12-29T08:01:47.373578Z"
    },
    "scrolled": true
   },
   "outputs": [
    {
     "data": {
      "text/plain": [
       "516"
      ]
     },
     "execution_count": 260,
     "metadata": {},
     "output_type": "execute_result"
    }
   ],
   "source": [
    "match_hist[0].participants[summoner.name].champion.id"
   ]
  },
  {
   "cell_type": "code",
   "execution_count": 273,
   "metadata": {
    "ExecuteTime": {
     "end_time": "2018-12-29T08:14:58.793965Z",
     "start_time": "2018-12-29T08:14:58.314127Z"
    },
    "scrolled": false
   },
   "outputs": [
    {
     "name": "stdout",
     "output_type": "stream",
     "text": [
      "Making call: https://kr.api.riotgames.com/lol/match/v3/matchlists/by-account/209691368?beginIndex=0&endIndex=100\n"
     ]
    },
    {
     "ename": "ValueError",
     "evalue": "'정밀' is not a valid RunePath",
     "output_type": "error",
     "traceback": [
      "\u001b[0;31m---------------------------------------------------------------------------\u001b[0m",
      "\u001b[0;31mTypeError\u001b[0m                                 Traceback (most recent call last)",
      "\u001b[0;32m~/anaconda3/lib/python3.6/site-packages/merakicommons/container.py\u001b[0m in \u001b[0;36m__getitem__\u001b[0;34m(self, item)\u001b[0m\n\u001b[1;32m    453\u001b[0m         \u001b[0;32mtry\u001b[0m\u001b[0;34m:\u001b[0m\u001b[0;34m\u001b[0m\u001b[0m\n\u001b[0;32m--> 454\u001b[0;31m             \u001b[0;32mreturn\u001b[0m \u001b[0mlist\u001b[0m\u001b[0;34m.\u001b[0m\u001b[0m__getitem__\u001b[0m\u001b[0;34m(\u001b[0m\u001b[0mself\u001b[0m\u001b[0;34m,\u001b[0m \u001b[0mitem\u001b[0m\u001b[0;34m)\u001b[0m\u001b[0;34m\u001b[0m\u001b[0m\n\u001b[0m\u001b[1;32m    455\u001b[0m         \u001b[0;32mexcept\u001b[0m \u001b[0mIndexError\u001b[0m\u001b[0;34m:\u001b[0m\u001b[0;34m\u001b[0m\u001b[0m\n",
      "\u001b[0;31mTypeError\u001b[0m: list indices must be integers or slices, not str",
      "\nDuring handling of the above exception, another exception occurred:\n",
      "\u001b[0;31mValueError\u001b[0m                                Traceback (most recent call last)",
      "\u001b[0;32m<ipython-input-273-ccb338174507>\u001b[0m in \u001b[0;36m<module>\u001b[0;34m()\u001b[0m\n\u001b[1;32m     36\u001b[0m     \u001b[0mprint\u001b[0m\u001b[0;34m(\u001b[0m\u001b[0;34m)\u001b[0m\u001b[0;34m\u001b[0m\u001b[0m\n\u001b[1;32m     37\u001b[0m \u001b[0;34m\u001b[0m\u001b[0m\n\u001b[0;32m---> 38\u001b[0;31m \u001b[0mprint_newest_match\u001b[0m\u001b[0;34m(\u001b[0m\u001b[0mname\u001b[0m\u001b[0;34m=\u001b[0m\u001b[0;34m'벤젠덴겐'\u001b[0m\u001b[0;34m,\u001b[0m \u001b[0mregion\u001b[0m\u001b[0;34m=\u001b[0m\u001b[0;34m'KR'\u001b[0m\u001b[0;34m)\u001b[0m\u001b[0;34m\u001b[0m\u001b[0m\n\u001b[0m",
      "\u001b[0;32m<ipython-input-273-ccb338174507>\u001b[0m in \u001b[0;36mprint_newest_match\u001b[0;34m(name, region)\u001b[0m\n\u001b[1;32m     25\u001b[0m     \u001b[0mplayed_champions\u001b[0m \u001b[0;34m=\u001b[0m \u001b[0mCounter\u001b[0m\u001b[0;34m(\u001b[0m\u001b[0;34m)\u001b[0m\u001b[0;34m\u001b[0m\u001b[0m\n\u001b[1;32m     26\u001b[0m     \u001b[0;32mfor\u001b[0m \u001b[0mmatch\u001b[0m \u001b[0;32min\u001b[0m \u001b[0mmatch_history\u001b[0m\u001b[0;34m:\u001b[0m\u001b[0;34m\u001b[0m\u001b[0m\n\u001b[0;32m---> 27\u001b[0;31m         \u001b[0mchampion_id\u001b[0m \u001b[0;34m=\u001b[0m \u001b[0mmatch\u001b[0m\u001b[0;34m.\u001b[0m\u001b[0mparticipants\u001b[0m\u001b[0;34m[\u001b[0m\u001b[0msummoner\u001b[0m\u001b[0;34m.\u001b[0m\u001b[0mname\u001b[0m\u001b[0;34m]\u001b[0m\u001b[0;34m.\u001b[0m\u001b[0mchampion\u001b[0m\u001b[0;34m.\u001b[0m\u001b[0mid\u001b[0m\u001b[0;34m\u001b[0m\u001b[0m\n\u001b[0m\u001b[1;32m     28\u001b[0m         \u001b[0mchampion_name\u001b[0m \u001b[0;34m=\u001b[0m \u001b[0mchampion_id_to_name_mapping\u001b[0m\u001b[0;34m[\u001b[0m\u001b[0mchampion_id\u001b[0m\u001b[0;34m]\u001b[0m\u001b[0;34m\u001b[0m\u001b[0m\n\u001b[1;32m     29\u001b[0m         \u001b[0mplayed_champions\u001b[0m\u001b[0;34m[\u001b[0m\u001b[0mchampion_name\u001b[0m\u001b[0;34m]\u001b[0m \u001b[0;34m+=\u001b[0m \u001b[0;36m1\u001b[0m\u001b[0;34m\u001b[0m\u001b[0m\n",
      "\u001b[0;32m~/anaconda3/lib/python3.6/site-packages/merakicommons/container.py\u001b[0m in \u001b[0;36m__getitem__\u001b[0;34m(self, item)\u001b[0m\n\u001b[1;32m    467\u001b[0m                 \u001b[0;32mreturn\u001b[0m \u001b[0mself\u001b[0m\u001b[0;34m.\u001b[0m\u001b[0mfind\u001b[0m\u001b[0;34m(\u001b[0m\u001b[0mitem\u001b[0m\u001b[0;34m)\u001b[0m\u001b[0;34m\u001b[0m\u001b[0m\n\u001b[1;32m    468\u001b[0m         \u001b[0;32mexcept\u001b[0m \u001b[0mTypeError\u001b[0m\u001b[0;34m:\u001b[0m\u001b[0;34m\u001b[0m\u001b[0m\n\u001b[0;32m--> 469\u001b[0;31m             \u001b[0;32mreturn\u001b[0m \u001b[0mself\u001b[0m\u001b[0;34m.\u001b[0m\u001b[0mfind\u001b[0m\u001b[0;34m(\u001b[0m\u001b[0mitem\u001b[0m\u001b[0;34m)\u001b[0m\u001b[0;34m\u001b[0m\u001b[0m\n\u001b[0m\u001b[1;32m    470\u001b[0m \u001b[0;34m\u001b[0m\u001b[0m\n\u001b[1;32m    471\u001b[0m     \u001b[0;32mdef\u001b[0m \u001b[0m__delitem__\u001b[0m\u001b[0;34m(\u001b[0m\u001b[0mself\u001b[0m\u001b[0;34m,\u001b[0m \u001b[0mitem\u001b[0m\u001b[0;34m:\u001b[0m \u001b[0mAny\u001b[0m\u001b[0;34m)\u001b[0m \u001b[0;34m->\u001b[0m \u001b[0;32mNone\u001b[0m\u001b[0;34m:\u001b[0m\u001b[0;34m\u001b[0m\u001b[0m\n",
      "\u001b[0;32m~/anaconda3/lib/python3.6/site-packages/merakicommons/container.py\u001b[0m in \u001b[0;36mfind\u001b[0;34m(self, item, reverse)\u001b[0m\n\u001b[1;32m    125\u001b[0m \u001b[0;34m\u001b[0m\u001b[0m\n\u001b[1;32m    126\u001b[0m     \u001b[0;32mdef\u001b[0m \u001b[0mfind\u001b[0m\u001b[0;34m(\u001b[0m\u001b[0mself\u001b[0m\u001b[0;34m,\u001b[0m \u001b[0mitem\u001b[0m\u001b[0;34m:\u001b[0m \u001b[0mAny\u001b[0m\u001b[0;34m,\u001b[0m \u001b[0mreverse\u001b[0m\u001b[0;34m:\u001b[0m \u001b[0mbool\u001b[0m \u001b[0;34m=\u001b[0m \u001b[0;32mFalse\u001b[0m\u001b[0;34m)\u001b[0m \u001b[0;34m->\u001b[0m \u001b[0mAny\u001b[0m\u001b[0;34m:\u001b[0m\u001b[0;34m\u001b[0m\u001b[0m\n\u001b[0;32m--> 127\u001b[0;31m         \u001b[0;32mfor\u001b[0m \u001b[0m_\u001b[0m\u001b[0;34m,\u001b[0m \u001b[0mx\u001b[0m \u001b[0;32min\u001b[0m \u001b[0mself\u001b[0m\u001b[0;34m.\u001b[0m\u001b[0menumerate\u001b[0m\u001b[0;34m(\u001b[0m\u001b[0mitem\u001b[0m\u001b[0;34m,\u001b[0m \u001b[0mreverse\u001b[0m\u001b[0;34m=\u001b[0m\u001b[0mreverse\u001b[0m\u001b[0;34m)\u001b[0m\u001b[0;34m:\u001b[0m\u001b[0;34m\u001b[0m\u001b[0m\n\u001b[0m\u001b[1;32m    128\u001b[0m             \u001b[0;32mreturn\u001b[0m \u001b[0mx\u001b[0m\u001b[0;34m\u001b[0m\u001b[0m\n\u001b[1;32m    129\u001b[0m         \u001b[0;32mraise\u001b[0m \u001b[0mSearchError\u001b[0m\u001b[0;34m(\u001b[0m\u001b[0mstr\u001b[0m\u001b[0;34m(\u001b[0m\u001b[0mitem\u001b[0m\u001b[0;34m)\u001b[0m\u001b[0;34m)\u001b[0m\u001b[0;34m\u001b[0m\u001b[0m\n",
      "\u001b[0;32m~/anaconda3/lib/python3.6/site-packages/merakicommons/container.py\u001b[0m in \u001b[0;36menumerate\u001b[0;34m(self, item, reverse)\u001b[0m\n\u001b[1;32m    145\u001b[0m \u001b[0;34m\u001b[0m\u001b[0m\n\u001b[1;32m    146\u001b[0m             \u001b[0;32mtry\u001b[0m\u001b[0;34m:\u001b[0m\u001b[0;34m\u001b[0m\u001b[0m\n\u001b[0;32m--> 147\u001b[0;31m                 \u001b[0;32mif\u001b[0m \u001b[0mitem\u001b[0m \u001b[0;32min\u001b[0m \u001b[0mx\u001b[0m\u001b[0;34m:\u001b[0m\u001b[0;34m\u001b[0m\u001b[0m\n\u001b[0m\u001b[1;32m    148\u001b[0m                     \u001b[0;32myield\u001b[0m \u001b[0mmax\u001b[0m \u001b[0;34m-\u001b[0m \u001b[0mindex\u001b[0m \u001b[0;32mif\u001b[0m \u001b[0mreverse\u001b[0m \u001b[0;32melse\u001b[0m \u001b[0mindex\u001b[0m\u001b[0;34m,\u001b[0m \u001b[0mx\u001b[0m\u001b[0;34m\u001b[0m\u001b[0m\n\u001b[1;32m    149\u001b[0m             \u001b[0;32mexcept\u001b[0m \u001b[0mTypeError\u001b[0m\u001b[0;34m:\u001b[0m\u001b[0;34m\u001b[0m\u001b[0m\n",
      "\u001b[0;32m~/anaconda3/lib/python3.6/site-packages/merakicommons/container.py\u001b[0m in \u001b[0;36msearch\u001b[0;34m(instance, item)\u001b[0m\n\u001b[1;32m     45\u001b[0m             \u001b[0;31m# Try to pass it along to the attribute's __contains__\u001b[0m\u001b[0;34m\u001b[0m\u001b[0;34m\u001b[0m\u001b[0m\n\u001b[1;32m     46\u001b[0m             \u001b[0;32mtry\u001b[0m\u001b[0;34m:\u001b[0m\u001b[0;34m\u001b[0m\u001b[0m\n\u001b[0;32m---> 47\u001b[0;31m                 \u001b[0;32mif\u001b[0m \u001b[0mitem\u001b[0m \u001b[0;32min\u001b[0m \u001b[0mvalue\u001b[0m\u001b[0;34m:\u001b[0m\u001b[0;34m\u001b[0m\u001b[0m\n\u001b[0m\u001b[1;32m     48\u001b[0m                     \u001b[0;32mreturn\u001b[0m \u001b[0;32mTrue\u001b[0m\u001b[0;34m\u001b[0m\u001b[0m\n\u001b[1;32m     49\u001b[0m             \u001b[0;32mexcept\u001b[0m \u001b[0;34m(\u001b[0m\u001b[0mTypeError\u001b[0m\u001b[0;34m,\u001b[0m \u001b[0mSearchError\u001b[0m\u001b[0;34m)\u001b[0m\u001b[0;34m:\u001b[0m\u001b[0;34m\u001b[0m\u001b[0m\n",
      "\u001b[0;32m~/anaconda3/lib/python3.6/site-packages/merakicommons/container.py\u001b[0m in \u001b[0;36m__contains__\u001b[0;34m(self, item)\u001b[0m\n\u001b[1;32m    233\u001b[0m \u001b[0;34m\u001b[0m\u001b[0m\n\u001b[1;32m    234\u001b[0m     \u001b[0;32mdef\u001b[0m \u001b[0m__contains__\u001b[0m\u001b[0;34m(\u001b[0m\u001b[0mself\u001b[0m\u001b[0;34m,\u001b[0m \u001b[0mitem\u001b[0m\u001b[0;34m:\u001b[0m \u001b[0mAny\u001b[0m\u001b[0;34m)\u001b[0m \u001b[0;34m->\u001b[0m \u001b[0mbool\u001b[0m\u001b[0;34m:\u001b[0m\u001b[0;34m\u001b[0m\u001b[0m\n\u001b[0;32m--> 235\u001b[0;31m         \u001b[0;32mreturn\u001b[0m \u001b[0mself\u001b[0m\u001b[0;34m.\u001b[0m\u001b[0mcontains\u001b[0m\u001b[0;34m(\u001b[0m\u001b[0mitem\u001b[0m\u001b[0;34m)\u001b[0m\u001b[0;34m\u001b[0m\u001b[0m\n\u001b[0m\u001b[1;32m    236\u001b[0m \u001b[0;34m\u001b[0m\u001b[0m\n\u001b[1;32m    237\u001b[0m     \u001b[0;32mdef\u001b[0m \u001b[0m__delitem__\u001b[0m\u001b[0;34m(\u001b[0m\u001b[0mself\u001b[0m\u001b[0;34m,\u001b[0m \u001b[0mitem\u001b[0m\u001b[0;34m:\u001b[0m \u001b[0mAny\u001b[0m\u001b[0;34m)\u001b[0m \u001b[0;34m->\u001b[0m \u001b[0;32mNone\u001b[0m\u001b[0;34m:\u001b[0m\u001b[0;34m\u001b[0m\u001b[0m\n",
      "\u001b[0;32m~/anaconda3/lib/python3.6/site-packages/merakicommons/container.py\u001b[0m in \u001b[0;36mcontains\u001b[0;34m(self, item)\u001b[0m\n\u001b[1;32m    283\u001b[0m \u001b[0;34m\u001b[0m\u001b[0m\n\u001b[1;32m    284\u001b[0m     \u001b[0;32mdef\u001b[0m \u001b[0mcontains\u001b[0m\u001b[0;34m(\u001b[0m\u001b[0mself\u001b[0m\u001b[0;34m,\u001b[0m \u001b[0mitem\u001b[0m\u001b[0;34m:\u001b[0m \u001b[0mAny\u001b[0m\u001b[0;34m)\u001b[0m \u001b[0;34m->\u001b[0m \u001b[0mbool\u001b[0m\u001b[0;34m:\u001b[0m\u001b[0;34m\u001b[0m\u001b[0m\n\u001b[0;32m--> 285\u001b[0;31m         \u001b[0;32mfor\u001b[0m \u001b[0m_\u001b[0m\u001b[0;34m,\u001b[0m \u001b[0m_\u001b[0m \u001b[0;32min\u001b[0m \u001b[0mself\u001b[0m\u001b[0;34m.\u001b[0m\u001b[0menumerate\u001b[0m\u001b[0;34m(\u001b[0m\u001b[0mitem\u001b[0m\u001b[0;34m)\u001b[0m\u001b[0;34m:\u001b[0m\u001b[0;34m\u001b[0m\u001b[0m\n\u001b[0m\u001b[1;32m    286\u001b[0m             \u001b[0;32mreturn\u001b[0m \u001b[0;32mTrue\u001b[0m\u001b[0;34m\u001b[0m\u001b[0m\n\u001b[1;32m    287\u001b[0m         \u001b[0;32mreturn\u001b[0m \u001b[0;32mFalse\u001b[0m\u001b[0;34m\u001b[0m\u001b[0m\n",
      "\u001b[0;32m~/anaconda3/lib/python3.6/site-packages/merakicommons/container.py\u001b[0m in \u001b[0;36menumerate\u001b[0;34m(self, item)\u001b[0m\n\u001b[1;32m    294\u001b[0m \u001b[0;34m\u001b[0m\u001b[0m\n\u001b[1;32m    295\u001b[0m             \u001b[0;32mtry\u001b[0m\u001b[0;34m:\u001b[0m\u001b[0;34m\u001b[0m\u001b[0m\n\u001b[0;32m--> 296\u001b[0;31m                 \u001b[0;32mif\u001b[0m \u001b[0mitem\u001b[0m \u001b[0;32min\u001b[0m \u001b[0mkey\u001b[0m\u001b[0;34m:\u001b[0m\u001b[0;34m\u001b[0m\u001b[0m\n\u001b[0m\u001b[1;32m    297\u001b[0m                     \u001b[0;32myield\u001b[0m \u001b[0mkey\u001b[0m\u001b[0;34m,\u001b[0m \u001b[0mvalue\u001b[0m\u001b[0;34m\u001b[0m\u001b[0m\n\u001b[1;32m    298\u001b[0m                     \u001b[0;32mcontinue\u001b[0m\u001b[0;34m\u001b[0m\u001b[0m\n",
      "\u001b[0;32m~/anaconda3/lib/python3.6/site-packages/merakicommons/container.py\u001b[0m in \u001b[0;36msearch\u001b[0;34m(instance, item)\u001b[0m\n\u001b[1;32m     30\u001b[0m             \u001b[0;32mfor\u001b[0m \u001b[0msub_attribute\u001b[0m \u001b[0;32min\u001b[0m \u001b[0msearch_key\u001b[0m\u001b[0;34m:\u001b[0m\u001b[0;34m\u001b[0m\u001b[0m\n\u001b[1;32m     31\u001b[0m                 \u001b[0;32mtry\u001b[0m\u001b[0;34m:\u001b[0m\u001b[0;34m\u001b[0m\u001b[0m\n\u001b[0;32m---> 32\u001b[0;31m                     \u001b[0mvalue\u001b[0m \u001b[0;34m=\u001b[0m \u001b[0mgetattr\u001b[0m\u001b[0;34m(\u001b[0m\u001b[0mvalue\u001b[0m\u001b[0;34m,\u001b[0m \u001b[0msub_attribute\u001b[0m\u001b[0;34m)\u001b[0m\u001b[0;34m\u001b[0m\u001b[0m\n\u001b[0m\u001b[1;32m     33\u001b[0m                 \u001b[0;32mexcept\u001b[0m \u001b[0mAttributeError\u001b[0m\u001b[0;34m:\u001b[0m\u001b[0;34m\u001b[0m\u001b[0m\n\u001b[1;32m     34\u001b[0m                     \u001b[0mfailed\u001b[0m \u001b[0;34m=\u001b[0m \u001b[0;32mTrue\u001b[0m\u001b[0;34m\u001b[0m\u001b[0m\n",
      "\u001b[0;32m~/anaconda3/lib/python3.6/site-packages/merakicommons/ghost.py\u001b[0m in \u001b[0;36m__get__\u001b[0;34m(self, obj, obj_type)\u001b[0m\n\u001b[1;32m     85\u001b[0m \u001b[0;34m\u001b[0m\u001b[0m\n\u001b[1;32m     86\u001b[0m             \u001b[0;32mtry\u001b[0m\u001b[0;34m:\u001b[0m\u001b[0;34m\u001b[0m\u001b[0m\n\u001b[0;32m---> 87\u001b[0;31m                 \u001b[0;32mreturn\u001b[0m \u001b[0mself\u001b[0m\u001b[0;34m.\u001b[0m\u001b[0mfget\u001b[0m\u001b[0;34m(\u001b[0m\u001b[0mobj\u001b[0m\u001b[0;34m)\u001b[0m\u001b[0;34m\u001b[0m\u001b[0m\n\u001b[0m\u001b[1;32m     88\u001b[0m             \u001b[0;32mexcept\u001b[0m \u001b[0mGhostLoadingRequiredError\u001b[0m\u001b[0;34m:\u001b[0m\u001b[0;34m\u001b[0m\u001b[0m\n\u001b[1;32m     89\u001b[0m                 \u001b[0mload_group\u001b[0m \u001b[0;34m=\u001b[0m \u001b[0mself\u001b[0m\u001b[0;34m.\u001b[0m\u001b[0mfget\u001b[0m\u001b[0;34m.\u001b[0m\u001b[0m_Ghost__load_group\u001b[0m\u001b[0;34m\u001b[0m\u001b[0m\n",
      "\u001b[0;32m~/anaconda3/lib/python3.6/site-packages/merakicommons/ghost.py\u001b[0m in \u001b[0;36mwrapper\u001b[0;34m(*args, **kwargs)\u001b[0m\n\u001b[1;32m     39\u001b[0m         \u001b[0;32mdef\u001b[0m \u001b[0mwrapper\u001b[0m\u001b[0;34m(\u001b[0m\u001b[0;34m*\u001b[0m\u001b[0margs\u001b[0m\u001b[0;34m,\u001b[0m \u001b[0;34m**\u001b[0m\u001b[0mkwargs\u001b[0m\u001b[0;34m)\u001b[0m\u001b[0;34m:\u001b[0m\u001b[0;34m\u001b[0m\u001b[0m\n\u001b[1;32m     40\u001b[0m             \u001b[0;32mtry\u001b[0m\u001b[0;34m:\u001b[0m\u001b[0;34m\u001b[0m\u001b[0m\n\u001b[0;32m---> 41\u001b[0;31m                 \u001b[0;32mreturn\u001b[0m \u001b[0mmethod\u001b[0m\u001b[0;34m(\u001b[0m\u001b[0;34m*\u001b[0m\u001b[0margs\u001b[0m\u001b[0;34m,\u001b[0m \u001b[0;34m**\u001b[0m\u001b[0mkwargs\u001b[0m\u001b[0;34m)\u001b[0m\u001b[0;34m\u001b[0m\u001b[0m\n\u001b[0m\u001b[1;32m     42\u001b[0m             \u001b[0;32mexcept\u001b[0m \u001b[0merrors\u001b[0m \u001b[0;32mas\u001b[0m \u001b[0merror\u001b[0m\u001b[0;34m:\u001b[0m\u001b[0;34m\u001b[0m\u001b[0m\n\u001b[1;32m     43\u001b[0m                 \u001b[0;32mraise\u001b[0m \u001b[0mGhostLoadingRequiredError\u001b[0m\u001b[0;34m(\u001b[0m\u001b[0mstr\u001b[0m\u001b[0;34m(\u001b[0m\u001b[0merror\u001b[0m\u001b[0;34m)\u001b[0m\u001b[0;34m)\u001b[0m\u001b[0;34m\u001b[0m\u001b[0m\n",
      "\u001b[0;32m~/anaconda3/lib/python3.6/site-packages/cassiopeia/core/staticdata/rune.py\u001b[0m in \u001b[0;36mpath\u001b[0;34m(self)\u001b[0m\n\u001b[1;32m    206\u001b[0m     \u001b[0;34m@\u001b[0m\u001b[0mghost_load_on\u001b[0m\u001b[0;34m\u001b[0m\u001b[0m\n\u001b[1;32m    207\u001b[0m     \u001b[0;32mdef\u001b[0m \u001b[0mpath\u001b[0m\u001b[0;34m(\u001b[0m\u001b[0mself\u001b[0m\u001b[0;34m)\u001b[0m \u001b[0;34m->\u001b[0m \u001b[0mRunePath\u001b[0m\u001b[0;34m:\u001b[0m\u001b[0;34m\u001b[0m\u001b[0m\n\u001b[0;32m--> 208\u001b[0;31m         \u001b[0;32mreturn\u001b[0m \u001b[0mRunePath\u001b[0m\u001b[0;34m(\u001b[0m\u001b[0mself\u001b[0m\u001b[0;34m.\u001b[0m\u001b[0m_data\u001b[0m\u001b[0;34m[\u001b[0m\u001b[0mRuneData\u001b[0m\u001b[0;34m]\u001b[0m\u001b[0;34m.\u001b[0m\u001b[0mpath\u001b[0m\u001b[0;34m)\u001b[0m\u001b[0;34m\u001b[0m\u001b[0m\n\u001b[0m\u001b[1;32m    209\u001b[0m \u001b[0;34m\u001b[0m\u001b[0m\n\u001b[1;32m    210\u001b[0m     \u001b[0;34m@\u001b[0m\u001b[0mCassiopeiaGhost\u001b[0m\u001b[0;34m.\u001b[0m\u001b[0mproperty\u001b[0m\u001b[0;34m(\u001b[0m\u001b[0mRuneData\u001b[0m\u001b[0;34m)\u001b[0m\u001b[0;34m\u001b[0m\u001b[0m\n",
      "\u001b[0;32m~/anaconda3/lib/python3.6/enum.py\u001b[0m in \u001b[0;36m__call__\u001b[0;34m(cls, value, names, module, qualname, type, start)\u001b[0m\n\u001b[1;32m    289\u001b[0m         \"\"\"\n\u001b[1;32m    290\u001b[0m         \u001b[0;32mif\u001b[0m \u001b[0mnames\u001b[0m \u001b[0;32mis\u001b[0m \u001b[0;32mNone\u001b[0m\u001b[0;34m:\u001b[0m  \u001b[0;31m# simple value lookup\u001b[0m\u001b[0;34m\u001b[0m\u001b[0m\n\u001b[0;32m--> 291\u001b[0;31m             \u001b[0;32mreturn\u001b[0m \u001b[0mcls\u001b[0m\u001b[0;34m.\u001b[0m\u001b[0m__new__\u001b[0m\u001b[0;34m(\u001b[0m\u001b[0mcls\u001b[0m\u001b[0;34m,\u001b[0m \u001b[0mvalue\u001b[0m\u001b[0;34m)\u001b[0m\u001b[0;34m\u001b[0m\u001b[0m\n\u001b[0m\u001b[1;32m    292\u001b[0m         \u001b[0;31m# otherwise, functional API: we're creating a new Enum type\u001b[0m\u001b[0;34m\u001b[0m\u001b[0;34m\u001b[0m\u001b[0m\n\u001b[1;32m    293\u001b[0m         \u001b[0;32mreturn\u001b[0m \u001b[0mcls\u001b[0m\u001b[0;34m.\u001b[0m\u001b[0m_create_\u001b[0m\u001b[0;34m(\u001b[0m\u001b[0mvalue\u001b[0m\u001b[0;34m,\u001b[0m \u001b[0mnames\u001b[0m\u001b[0;34m,\u001b[0m \u001b[0mmodule\u001b[0m\u001b[0;34m=\u001b[0m\u001b[0mmodule\u001b[0m\u001b[0;34m,\u001b[0m \u001b[0mqualname\u001b[0m\u001b[0;34m=\u001b[0m\u001b[0mqualname\u001b[0m\u001b[0;34m,\u001b[0m \u001b[0mtype\u001b[0m\u001b[0;34m=\u001b[0m\u001b[0mtype\u001b[0m\u001b[0;34m,\u001b[0m \u001b[0mstart\u001b[0m\u001b[0;34m=\u001b[0m\u001b[0mstart\u001b[0m\u001b[0;34m)\u001b[0m\u001b[0;34m\u001b[0m\u001b[0m\n",
      "\u001b[0;32m~/anaconda3/lib/python3.6/enum.py\u001b[0m in \u001b[0;36m__new__\u001b[0;34m(cls, value)\u001b[0m\n\u001b[1;32m    531\u001b[0m                     \u001b[0;32mreturn\u001b[0m \u001b[0mmember\u001b[0m\u001b[0;34m\u001b[0m\u001b[0m\n\u001b[1;32m    532\u001b[0m         \u001b[0;31m# still not found -- try _missing_ hook\u001b[0m\u001b[0;34m\u001b[0m\u001b[0;34m\u001b[0m\u001b[0m\n\u001b[0;32m--> 533\u001b[0;31m         \u001b[0;32mreturn\u001b[0m \u001b[0mcls\u001b[0m\u001b[0;34m.\u001b[0m\u001b[0m_missing_\u001b[0m\u001b[0;34m(\u001b[0m\u001b[0mvalue\u001b[0m\u001b[0;34m)\u001b[0m\u001b[0;34m\u001b[0m\u001b[0m\n\u001b[0m\u001b[1;32m    534\u001b[0m \u001b[0;34m\u001b[0m\u001b[0m\n\u001b[1;32m    535\u001b[0m     \u001b[0;32mdef\u001b[0m \u001b[0m_generate_next_value_\u001b[0m\u001b[0;34m(\u001b[0m\u001b[0mname\u001b[0m\u001b[0;34m,\u001b[0m \u001b[0mstart\u001b[0m\u001b[0;34m,\u001b[0m \u001b[0mcount\u001b[0m\u001b[0;34m,\u001b[0m \u001b[0mlast_values\u001b[0m\u001b[0;34m)\u001b[0m\u001b[0;34m:\u001b[0m\u001b[0;34m\u001b[0m\u001b[0m\n",
      "\u001b[0;32m~/anaconda3/lib/python3.6/enum.py\u001b[0m in \u001b[0;36m_missing_\u001b[0;34m(cls, value)\u001b[0m\n\u001b[1;32m    544\u001b[0m     \u001b[0;34m@\u001b[0m\u001b[0mclassmethod\u001b[0m\u001b[0;34m\u001b[0m\u001b[0m\n\u001b[1;32m    545\u001b[0m     \u001b[0;32mdef\u001b[0m \u001b[0m_missing_\u001b[0m\u001b[0;34m(\u001b[0m\u001b[0mcls\u001b[0m\u001b[0;34m,\u001b[0m \u001b[0mvalue\u001b[0m\u001b[0;34m)\u001b[0m\u001b[0;34m:\u001b[0m\u001b[0;34m\u001b[0m\u001b[0m\n\u001b[0;32m--> 546\u001b[0;31m         \u001b[0;32mraise\u001b[0m \u001b[0mValueError\u001b[0m\u001b[0;34m(\u001b[0m\u001b[0;34m\"%r is not a valid %s\"\u001b[0m \u001b[0;34m%\u001b[0m \u001b[0;34m(\u001b[0m\u001b[0mvalue\u001b[0m\u001b[0;34m,\u001b[0m \u001b[0mcls\u001b[0m\u001b[0;34m.\u001b[0m\u001b[0m__name__\u001b[0m\u001b[0;34m)\u001b[0m\u001b[0;34m)\u001b[0m\u001b[0;34m\u001b[0m\u001b[0m\n\u001b[0m\u001b[1;32m    547\u001b[0m \u001b[0;34m\u001b[0m\u001b[0m\n\u001b[1;32m    548\u001b[0m     \u001b[0;32mdef\u001b[0m \u001b[0m__repr__\u001b[0m\u001b[0;34m(\u001b[0m\u001b[0mself\u001b[0m\u001b[0;34m)\u001b[0m\u001b[0;34m:\u001b[0m\u001b[0;34m\u001b[0m\u001b[0m\n",
      "\u001b[0;31mValueError\u001b[0m: '정밀' is not a valid RunePath"
     ]
    }
   ],
   "source": [
    "import cassiopeia as cass\n",
    "from cassiopeia import Summoner, Match\n",
    "from cassiopeia.data import Season, Queue\n",
    "from collections import Counter\n",
    "\n",
    "\n",
    "def print_newest_match(name: str, region: str):\n",
    "\n",
    "    # Notice how this function never makes a call to the summoner endpoint because we provide all the needed data!\n",
    "\n",
    "    summoner = Summoner(name=name)\n",
    "\n",
    "    # A MatchHistory is a lazy list, meaning it's elements only get loaded as-needed.\n",
    "\n",
    "    # match_history = cass.get_match_history(summoner=summoner, seasons={Season.season_8}, queues={Queue.ranked_solo_fives})\n",
    "    match_history = cass.get_match_history(summoner)\n",
    "    match_history(seasons={Season.season_8}, queues={Queue.ranked_solo_fives})\n",
    "\n",
    "    # Load the entire match history by iterating over all its elements so that we know how long it is.\n",
    "    # Unfortunately since we are iterating over the match history and accessing the summoner's champion for each match,\n",
    "    # we need to know what version of the static data the champion should have. To avoid pulling many different\n",
    "    # static data versions, we will instead create a {champion_id -> champion_name} mapping and just access the champion's\n",
    "    # ID from the match data (which it provides directly).\n",
    "    champion_id_to_name_mapping = {champion.id: champion.name for champion in cass.get_champions(region=region)}\n",
    "    played_champions = Counter()\n",
    "    for match in match_history:\n",
    "        champion_id = match.participants[summoner.name].champion.id\n",
    "        champion_name = champion_id_to_name_mapping[champion_id]\n",
    "        played_champions[champion_name] += 1\n",
    "    print(\"Length of match history:\", len(match_history))\n",
    "\n",
    "    # Print the aggregated champion results\n",
    "    print(\"Top 10 champions {} played:\".format(summoner.name))\n",
    "    for champion_name, count in played_champions.most_common(10):\n",
    "        print(champion_name, count)\n",
    "    print()\n",
    "\n",
    "print_newest_match(name='벤젠덴겐', region='KR')\n"
   ]
  },
  {
   "cell_type": "code",
   "execution_count": 272,
   "metadata": {
    "ExecuteTime": {
     "end_time": "2018-12-29T08:13:08.675401Z",
     "start_time": "2018-12-29T08:12:48.809909Z"
    }
   },
   "outputs": [
    {
     "name": "stdout",
     "output_type": "stream",
     "text": [
      "Making call: https://na1.api.riotgames.com/lol/match/v3/matchlists/by-account/34718348?beginIndex=0&endIndex=100\n",
      "Making call: https://na1.api.riotgames.com/lol/match/v3/matchlists/by-account/34718348?beginIndex=100&endIndex=200\n",
      "Making call: https://na1.api.riotgames.com/lol/match/v3/matchlists/by-account/34718348?beginIndex=200&endIndex=300\n",
      "Making call: https://na1.api.riotgames.com/lol/match/v3/matchlists/by-account/34718348?beginIndex=300&endIndex=400\n",
      "Making call: https://na1.api.riotgames.com/lol/match/v3/matchlists/by-account/34718348?beginIndex=400&endIndex=500\n",
      "Making call: https://na1.api.riotgames.com/lol/match/v3/matchlists/by-account/34718348?beginIndex=500&endIndex=600\n",
      "Making call: https://na1.api.riotgames.com/lol/match/v3/matchlists/by-account/34718348?beginIndex=600&endIndex=700\n",
      "Making call: https://na1.api.riotgames.com/lol/match/v3/matchlists/by-account/34718348?beginIndex=700&endIndex=800\n",
      "Making call: https://na1.api.riotgames.com/lol/match/v3/matchlists/by-account/34718348?beginIndex=800&endIndex=900\n",
      "Making call: https://na1.api.riotgames.com/lol/match/v3/matchlists/by-account/34718348?beginIndex=900&endIndex=1000\n",
      "Making call: https://na1.api.riotgames.com/lol/match/v3/matchlists/by-account/34718348?beginIndex=1000&endIndex=1100\n",
      "Making call: https://na1.api.riotgames.com/lol/match/v3/matchlists/by-account/34718348?beginIndex=1100&endIndex=1200\n",
      "Making call: https://na1.api.riotgames.com/lol/match/v3/matchlists/by-account/34718348?beginIndex=1200&endIndex=1300\n",
      "Making call: https://na1.api.riotgames.com/lol/match/v3/matchlists/by-account/34718348?beginIndex=1300&endIndex=1400\n",
      "Making call: https://na1.api.riotgames.com/lol/match/v3/matchlists/by-account/34718348?beginIndex=1400&endIndex=1500\n",
      "Making call: https://na1.api.riotgames.com/lol/match/v3/matchlists/by-account/34718348?beginIndex=1500&endIndex=1600\n",
      "Making call: https://na1.api.riotgames.com/lol/match/v3/matchlists/by-account/34718348?beginIndex=1600&endIndex=1700\n",
      "Making call: https://na1.api.riotgames.com/lol/match/v3/matchlists/by-account/34718348?beginIndex=1700&endIndex=1800\n",
      "Making call: https://na1.api.riotgames.com/lol/match/v3/matchlists/by-account/34718348?beginIndex=1800&endIndex=1900\n",
      "Making call: https://na1.api.riotgames.com/lol/match/v3/matchlists/by-account/34718348?beginIndex=1900&endIndex=2000\n",
      "Making call: https://na1.api.riotgames.com/lol/match/v3/matchlists/by-account/34718348?beginIndex=2000&endIndex=2100\n",
      "Making call: https://na1.api.riotgames.com/lol/match/v3/matchlists/by-account/34718348?beginIndex=2100&endIndex=2200\n",
      "Making call: https://na1.api.riotgames.com/lol/match/v3/matchlists/by-account/34718348?beginIndex=2200&endIndex=2300\n",
      "Making call: https://na1.api.riotgames.com/lol/match/v3/matchlists/by-account/34718348?beginIndex=2300&endIndex=2400\n",
      "Making call: https://na1.api.riotgames.com/lol/match/v3/matchlists/by-account/34718348?beginIndex=2400&endIndex=2500\n",
      "Making call: https://na1.api.riotgames.com/lol/match/v3/matchlists/by-account/34718348?beginIndex=2500&endIndex=2600\n",
      "Making call: https://na1.api.riotgames.com/lol/match/v3/matchlists/by-account/34718348?beginIndex=2600&endIndex=2700\n",
      "Making call: https://na1.api.riotgames.com/lol/match/v3/matchlists/by-account/34718348?beginIndex=2700&endIndex=2800\n"
     ]
    },
    {
     "name": "stderr",
     "output_type": "stream",
     "text": [
      "/home/hwijae/anaconda3/lib/python3.6/site-packages/ipykernel_launcher.py:26: DeprecationWarning: generator 'SearchableLazyList.__iter__' raised StopIteration\n"
     ]
    },
    {
     "name": "stdout",
     "output_type": "stream",
     "text": [
      "Length of match history: 2783\n",
      "Top 10 champions Kalturi played:\n",
      "Vel'Koz 131\n",
      "Diana 105\n",
      "Braum 100\n",
      "Blitzcrank 94\n",
      "Bard 92\n",
      "Jhin 88\n",
      "Taric 86\n",
      "Lulu 83\n",
      "Ekko 68\n",
      "Twitch 66\n",
      "\n",
      "Match ID: 2940380192\n",
      "\n",
      "Since the match was created from a matchref, we only know one participant:\n",
      "1 Region.north_america Kalturi 21359666 44\n",
      "\n",
      "Now pull the full match data by iterating over all the participants:\n",
      "Making call: https://na1.api.riotgames.com/lol/match/v3/matches/2940380192\n",
      "1 Region.north_america Kalturi 21359666 44 False\n",
      "1 Region.north_america JoeBigPlays 46032267 45 True\n",
      "2 Region.north_america OMG Biology 36549748 11 True\n",
      "3 Region.north_america JoiyGaming 82899610 81 True\n",
      "4 Region.north_america ba2ashtmosso 84231968 25 True\n",
      "5 Region.north_america TheHispanicJesus 74591796 41 True\n",
      "6 Region.north_america Creamy Caterpie 41227578 28 False\n",
      "8 Region.north_america TheSoapstah 59296186 86 False\n",
      "9 Region.north_america statutoryVaper 89760452 67 False\n",
      "10 Region.north_america chewbacaman 41742991 105 False\n",
      "\n",
      "Iterate over all the participants again and note that the data is not repulled:\n",
      "7 Region.north_america Kalturi 21359666 44 False\n",
      "1 Region.north_america JoeBigPlays 46032267 45 True\n",
      "2 Region.north_america OMG Biology 36549748 11 True\n",
      "3 Region.north_america JoiyGaming 82899610 81 True\n",
      "4 Region.north_america ba2ashtmosso 84231968 25 True\n",
      "5 Region.north_america TheHispanicJesus 74591796 41 True\n",
      "6 Region.north_america Creamy Caterpie 41227578 28 False\n",
      "8 Region.north_america TheSoapstah 59296186 86 False\n",
      "9 Region.north_america statutoryVaper 89760452 67 False\n",
      "10 Region.north_america chewbacaman 41742991 105 False\n",
      "\n",
      "Blue team won? False\n",
      "Red team won? True\n",
      "Participants on blue team:\n",
      "JoeBigPlays\n",
      "OMG Biology\n",
      "JoiyGaming\n",
      "ba2ashtmosso\n",
      "TheHispanicJesus\n"
     ]
    },
    {
     "name": "stderr",
     "output_type": "stream",
     "text": [
      "/home/hwijae/anaconda3/lib/python3.6/site-packages/ipykernel_launcher.py:47: DeprecationWarning: generator 'SearchableLazyList.__iter__' raised StopIteration\n",
      "/home/hwijae/anaconda3/lib/python3.6/site-packages/ipykernel_launcher.py:52: DeprecationWarning: generator 'SearchableLazyList.__iter__' raised StopIteration\n"
     ]
    }
   ],
   "source": [
    "import cassiopeia as cass\n",
    "from cassiopeia import Summoner, Match\n",
    "from cassiopeia.data import Season, Queue\n",
    "from collections import Counter\n",
    "\n",
    "\n",
    "def print_newest_match(name: str, region: str):\n",
    "\n",
    "    # Notice how this function never makes a call to the summoner endpoint because we provide all the needed data!\n",
    "\n",
    "    summoner = Summoner(name=name, region=region)\n",
    "\n",
    "    # A MatchHistory is a lazy list, meaning it's elements only get loaded as-needed.\n",
    "\n",
    "    # match_history = cass.get_match_history(summoner=summoner, seasons={Season.season_8}, queues={Queue.ranked_solo_fives})\n",
    "    match_history = summoner.match_history\n",
    "    match_history(seasons={Season.season_8}, queues={Queue.ranked_solo_fives})\n",
    "\n",
    "    # Load the entire match history by iterating over all its elements so that we know how long it is.\n",
    "    # Unfortunately since we are iterating over the match history and accessing the summoner's champion for each match,\n",
    "    # we need to know what version of the static data the champion should have. To avoid pulling many different\n",
    "    # static data versions, we will instead create a {champion_id -> champion_name} mapping and just access the champion's\n",
    "    # ID from the match data (which it provides directly).\n",
    "    champion_id_to_name_mapping = {champion.id: champion.name for champion in cass.get_champions(region=region)}\n",
    "    played_champions = Counter()\n",
    "    for match in match_history:\n",
    "        champion_id = match.participants[summoner.name].champion.id\n",
    "        champion_name = champion_id_to_name_mapping[champion_id]\n",
    "        played_champions[champion_name] += 1\n",
    "    print(\"Length of match history:\", len(match_history))\n",
    "\n",
    "    # Print the aggregated champion results\n",
    "    print(\"Top 10 champions {} played:\".format(summoner.name))\n",
    "    for champion_name, count in played_champions.most_common(10):\n",
    "        print(champion_name, count)\n",
    "    print()\n",
    "\n",
    "    match = match_history[0]\n",
    "    print('Match ID:', match.id)\n",
    "\n",
    "    p = match.participants[summoner]\n",
    "    print(\"\\nSince the match was created from a matchref, we only know one participant:\")\n",
    "    #print(p.summoner.name, 'playing', p.champion.name)\n",
    "    print(p.id, p.summoner.region,  p.summoner.name, p.summoner.id, p.champion.id)\n",
    "\n",
    "    print(\"\\nNow pull the full match data by iterating over all the participants:\")\n",
    "    for p in match.participants:\n",
    "        #print(p.summoner.name, 'playing', p.champion.name)\n",
    "        print(p.id, p.summoner.region, p.summoner.name, p.summoner.id, p.champion.id, p.team.first_dragon)\n",
    "\n",
    "    print(\"\\nIterate over all the participants again and note that the data is not repulled:\")\n",
    "    for p in match.participants:\n",
    "        #print(p.summoner.name, 'playing', p.champion.name)\n",
    "        print(p.id, p.summoner.region,  p.summoner.name, p.summoner.id, p.champion.id, p.team.first_dragon)\n",
    "\n",
    "    print(\"\\nBlue team won?\", match.blue_team.win)\n",
    "    print(\"Red team won?\", match.red_team.win)\n",
    "    print(\"Participants on blue team:\")\n",
    "    for p in match.blue_team.participants:\n",
    "        print(p.summoner.name)\n",
    "\n",
    "\n",
    "if __name__ == \"__main__\":\n",
    "    print_newest_match(name=\"Kalturi\", region=\"NA\")"
   ]
  },
  {
   "cell_type": "code",
   "execution_count": 101,
   "metadata": {
    "ExecuteTime": {
     "end_time": "2018-12-29T07:07:04.666679Z",
     "start_time": "2018-12-29T07:07:02.732057Z"
    }
   },
   "outputs": [
    {
     "name": "stdout",
     "output_type": "stream",
     "text": [
      "Making call: https://kr.api.riotgames.com/lol/match/v3/matchlists/by-account/1605128?beginIndex=0&endIndex=100\n",
      "Making call: https://kr.api.riotgames.com/lol/match/v3/matchlists/by-account/1605128?beginIndex=100&endIndex=200\n",
      "Making call: https://kr.api.riotgames.com/lol/match/v3/matchlists/by-account/1605128?beginIndex=200&endIndex=300\n",
      "Making call: https://kr.api.riotgames.com/lol/match/v3/matchlists/by-account/1605128?beginIndex=300&endIndex=400\n",
      "Making call: https://kr.api.riotgames.com/lol/match/v3/matchlists/by-account/1605128?beginIndex=400&endIndex=500\n"
     ]
    },
    {
     "data": {
      "text/plain": [
       "True"
      ]
     },
     "execution_count": 101,
     "metadata": {},
     "output_type": "execute_result"
    }
   ],
   "source": [
    "summoner = cass.get_summoner(name=\"dskjbfksaf\")\n",
    "\n",
    "cass.MatchHistory(summoner=summoner)[-1].blue_team.win"
   ]
  },
  {
   "cell_type": "code",
   "execution_count": null,
   "metadata": {},
   "outputs": [],
   "source": []
  }
 ],
 "metadata": {
  "kernelspec": {
   "display_name": "Python 3",
   "language": "python",
   "name": "python3"
  },
  "language_info": {
   "codemirror_mode": {
    "name": "ipython",
    "version": 3
   },
   "file_extension": ".py",
   "mimetype": "text/x-python",
   "name": "python",
   "nbconvert_exporter": "python",
   "pygments_lexer": "ipython3",
   "version": "3.6.5"
  }
 },
 "nbformat": 4,
 "nbformat_minor": 2
}
